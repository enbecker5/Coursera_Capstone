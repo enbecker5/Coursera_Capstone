{
 "cells": [
  {
   "cell_type": "code",
   "execution_count": 13,
   "metadata": {},
   "outputs": [],
   "source": [
    "import numpy as np\n",
    "import pandas as pd\n",
    "import pyproj\n",
    "import geopandas as gpd\n",
    "from geopy.geocoders import Nominatim\n",
    "from shapely.geometry import shape, Polygon, Point\n",
    "from shapely.ops import transform"
   ]
  },
  {
   "cell_type": "code",
   "execution_count": 2,
   "metadata": {},
   "outputs": [
    {
     "data": {
      "text/html": [
       "<div>\n",
       "<style scoped>\n",
       "    .dataframe tbody tr th:only-of-type {\n",
       "        vertical-align: middle;\n",
       "    }\n",
       "\n",
       "    .dataframe tbody tr th {\n",
       "        vertical-align: top;\n",
       "    }\n",
       "\n",
       "    .dataframe thead th {\n",
       "        text-align: right;\n",
       "    }\n",
       "</style>\n",
       "<table border=\"1\" class=\"dataframe\">\n",
       "  <thead>\n",
       "    <tr style=\"text-align: right;\">\n",
       "      <th></th>\n",
       "      <th>District Name</th>\n",
       "      <th>State Name</th>\n",
       "      <th>geometry</th>\n",
       "    </tr>\n",
       "  </thead>\n",
       "  <tbody>\n",
       "    <tr>\n",
       "      <th>0</th>\n",
       "      <td>Reinickendorf</td>\n",
       "      <td>Berlin</td>\n",
       "      <td>MULTIPOLYGON (((13.32074 52.62660, 13.32045 52...</td>\n",
       "    </tr>\n",
       "    <tr>\n",
       "      <th>1</th>\n",
       "      <td>Charlottenburg-Wilmersdorf</td>\n",
       "      <td>Berlin</td>\n",
       "      <td>MULTIPOLYGON (((13.32111 52.52446, 13.32103 52...</td>\n",
       "    </tr>\n",
       "    <tr>\n",
       "      <th>2</th>\n",
       "      <td>Treptow-Köpenick</td>\n",
       "      <td>Berlin</td>\n",
       "      <td>MULTIPOLYGON (((13.57925 52.39083, 13.57958 52...</td>\n",
       "    </tr>\n",
       "    <tr>\n",
       "      <th>3</th>\n",
       "      <td>Pankow</td>\n",
       "      <td>Berlin</td>\n",
       "      <td>MULTIPOLYGON (((13.50481 52.61960, 13.50467 52...</td>\n",
       "    </tr>\n",
       "    <tr>\n",
       "      <th>4</th>\n",
       "      <td>Neukölln</td>\n",
       "      <td>Berlin</td>\n",
       "      <td>MULTIPOLYGON (((13.45832 52.48569, 13.45823 52...</td>\n",
       "    </tr>\n",
       "    <tr>\n",
       "      <th>5</th>\n",
       "      <td>Lichtenberg</td>\n",
       "      <td>Berlin</td>\n",
       "      <td>MULTIPOLYGON (((13.52316 52.47424, 13.52367 52...</td>\n",
       "    </tr>\n",
       "    <tr>\n",
       "      <th>6</th>\n",
       "      <td>Marzahn-Hellersdorf</td>\n",
       "      <td>Berlin</td>\n",
       "      <td>MULTIPOLYGON (((13.61317 52.47213, 13.61329 52...</td>\n",
       "    </tr>\n",
       "    <tr>\n",
       "      <th>7</th>\n",
       "      <td>Spandau</td>\n",
       "      <td>Berlin</td>\n",
       "      <td>MULTIPOLYGON (((13.23119 52.56124, 13.23092 52...</td>\n",
       "    </tr>\n",
       "    <tr>\n",
       "      <th>8</th>\n",
       "      <td>Steglitz-Zehlendorf</td>\n",
       "      <td>Berlin</td>\n",
       "      <td>MULTIPOLYGON (((13.31952 52.46699, 13.31910 52...</td>\n",
       "    </tr>\n",
       "    <tr>\n",
       "      <th>9</th>\n",
       "      <td>Mitte</td>\n",
       "      <td>Berlin</td>\n",
       "      <td>MULTIPOLYGON (((13.37721 52.56091, 13.37715 52...</td>\n",
       "    </tr>\n",
       "    <tr>\n",
       "      <th>10</th>\n",
       "      <td>Friedrichshain-Kreuzberg</td>\n",
       "      <td>Berlin</td>\n",
       "      <td>MULTIPOLYGON (((13.45529 52.52127, 13.45542 52...</td>\n",
       "    </tr>\n",
       "    <tr>\n",
       "      <th>11</th>\n",
       "      <td>Tempelhof-Schöneberg</td>\n",
       "      <td>Berlin</td>\n",
       "      <td>MULTIPOLYGON (((13.38759 52.38677, 13.38761 52...</td>\n",
       "    </tr>\n",
       "  </tbody>\n",
       "</table>\n",
       "</div>"
      ],
      "text/plain": [
       "                 District Name State Name  \\\n",
       "0                Reinickendorf     Berlin   \n",
       "1   Charlottenburg-Wilmersdorf     Berlin   \n",
       "2             Treptow-Köpenick     Berlin   \n",
       "3                       Pankow     Berlin   \n",
       "4                     Neukölln     Berlin   \n",
       "5                  Lichtenberg     Berlin   \n",
       "6          Marzahn-Hellersdorf     Berlin   \n",
       "7                      Spandau     Berlin   \n",
       "8          Steglitz-Zehlendorf     Berlin   \n",
       "9                        Mitte     Berlin   \n",
       "10    Friedrichshain-Kreuzberg     Berlin   \n",
       "11        Tempelhof-Schöneberg     Berlin   \n",
       "\n",
       "                                             geometry  \n",
       "0   MULTIPOLYGON (((13.32074 52.62660, 13.32045 52...  \n",
       "1   MULTIPOLYGON (((13.32111 52.52446, 13.32103 52...  \n",
       "2   MULTIPOLYGON (((13.57925 52.39083, 13.57958 52...  \n",
       "3   MULTIPOLYGON (((13.50481 52.61960, 13.50467 52...  \n",
       "4   MULTIPOLYGON (((13.45832 52.48569, 13.45823 52...  \n",
       "5   MULTIPOLYGON (((13.52316 52.47424, 13.52367 52...  \n",
       "6   MULTIPOLYGON (((13.61317 52.47213, 13.61329 52...  \n",
       "7   MULTIPOLYGON (((13.23119 52.56124, 13.23092 52...  \n",
       "8   MULTIPOLYGON (((13.31952 52.46699, 13.31910 52...  \n",
       "9   MULTIPOLYGON (((13.37721 52.56091, 13.37715 52...  \n",
       "10  MULTIPOLYGON (((13.45529 52.52127, 13.45542 52...  \n",
       "11  MULTIPOLYGON (((13.38759 52.38677, 13.38761 52...  "
      ]
     },
     "execution_count": 2,
     "metadata": {},
     "output_type": "execute_result"
    }
   ],
   "source": [
    "urldistr = 'https://tsb-opendata.s3.eu-central-1.amazonaws.com/bezirksgrenzen/bezirksgrenzen.geojson'\n",
    "distr_gdf = gpd.read_file(urldistr)\n",
    "distr_gdf = distr_gdf[['Gemeinde_name', 'Land_name','geometry']]\n",
    "distr_gdf = distr_gdf.rename(columns={'Gemeinde_name':'District Name', 'Land_name':'State Name'})\n",
    "distr_gdf = distr_gdf.set_crs(epsg=4326, allow_override=True)\n",
    "distr_gdf"
   ]
  },
  {
   "cell_type": "code",
   "execution_count": 3,
   "metadata": {},
   "outputs": [
    {
     "data": {
      "text/plain": [
       "<Geographic 2D CRS: EPSG:4326>\n",
       "Name: WGS 84\n",
       "Axis Info [ellipsoidal]:\n",
       "- Lat[north]: Geodetic latitude (degree)\n",
       "- Lon[east]: Geodetic longitude (degree)\n",
       "Area of Use:\n",
       "- name: World.\n",
       "- bounds: (-180.0, -90.0, 180.0, 90.0)\n",
       "Datum: World Geodetic System 1984\n",
       "- Ellipsoid: WGS 84\n",
       "- Prime Meridian: Greenwich"
      ]
     },
     "execution_count": 3,
     "metadata": {},
     "output_type": "execute_result"
    }
   ],
   "source": [
    "distr_gdf.crs"
   ]
  },
  {
   "cell_type": "code",
   "execution_count": 3,
   "metadata": {},
   "outputs": [],
   "source": [
    "berlin_polyg = distr_gdf[['State Name','geometry']].dissolve(by='State Name')"
   ]
  },
  {
   "cell_type": "code",
   "execution_count": 4,
   "metadata": {},
   "outputs": [
    {
     "data": {
      "text/html": [
       "<div>\n",
       "<style scoped>\n",
       "    .dataframe tbody tr th:only-of-type {\n",
       "        vertical-align: middle;\n",
       "    }\n",
       "\n",
       "    .dataframe tbody tr th {\n",
       "        vertical-align: top;\n",
       "    }\n",
       "\n",
       "    .dataframe thead th {\n",
       "        text-align: right;\n",
       "    }\n",
       "</style>\n",
       "<table border=\"1\" class=\"dataframe\">\n",
       "  <thead>\n",
       "    <tr style=\"text-align: right;\">\n",
       "      <th></th>\n",
       "      <th>geometry</th>\n",
       "    </tr>\n",
       "    <tr>\n",
       "      <th>State Name</th>\n",
       "      <th></th>\n",
       "    </tr>\n",
       "  </thead>\n",
       "  <tbody>\n",
       "    <tr>\n",
       "      <th>Berlin</th>\n",
       "      <td>MULTIPOLYGON (((13.56770 52.57451, 13.56772 52...</td>\n",
       "    </tr>\n",
       "  </tbody>\n",
       "</table>\n",
       "</div>"
      ],
      "text/plain": [
       "                                                     geometry\n",
       "State Name                                                   \n",
       "Berlin      MULTIPOLYGON (((13.56770 52.57451, 13.56772 52..."
      ]
     },
     "execution_count": 4,
     "metadata": {},
     "output_type": "execute_result"
    }
   ],
   "source": [
    "berlin_polyg"
   ]
  },
  {
   "cell_type": "code",
   "execution_count": 5,
   "metadata": {},
   "outputs": [
    {
     "data": {
      "text/html": [
       "<div>\n",
       "<style scoped>\n",
       "    .dataframe tbody tr th:only-of-type {\n",
       "        vertical-align: middle;\n",
       "    }\n",
       "\n",
       "    .dataframe tbody tr th {\n",
       "        vertical-align: top;\n",
       "    }\n",
       "\n",
       "    .dataframe thead th {\n",
       "        text-align: right;\n",
       "    }\n",
       "</style>\n",
       "<table border=\"1\" class=\"dataframe\">\n",
       "  <thead>\n",
       "    <tr style=\"text-align: right;\">\n",
       "      <th></th>\n",
       "      <th>geometry</th>\n",
       "    </tr>\n",
       "    <tr>\n",
       "      <th>State Name</th>\n",
       "      <th></th>\n",
       "    </tr>\n",
       "  </thead>\n",
       "  <tbody>\n",
       "    <tr>\n",
       "      <th>Berlin</th>\n",
       "      <td>MULTIPOLYGON (((402938.488 5825903.409, 402939...</td>\n",
       "    </tr>\n",
       "  </tbody>\n",
       "</table>\n",
       "</div>"
      ],
      "text/plain": [
       "                                                     geometry\n",
       "State Name                                                   \n",
       "Berlin      MULTIPOLYGON (((402938.488 5825903.409, 402939..."
      ]
     },
     "execution_count": 5,
     "metadata": {},
     "output_type": "execute_result"
    }
   ],
   "source": [
    "berlin_polyg_utm = berlin_polyg.to_crs(epsg=32633)\n",
    "berlin_polyg_utm"
   ]
  },
  {
   "cell_type": "code",
   "execution_count": 15,
   "metadata": {},
   "outputs": [
    {
     "ename": "ValueError",
     "evalue": "Unknown geometry type: featurecollection",
     "output_type": "error",
     "traceback": [
      "\u001b[0;31m---------------------------------------------------------------------------\u001b[0m",
      "\u001b[0;31mValueError\u001b[0m                                Traceback (most recent call last)",
      "\u001b[0;32m<ipython-input-15-7f9f6424dd4f>\u001b[0m in \u001b[0;36m<module>\u001b[0;34m\u001b[0m\n\u001b[0;32m----> 1\u001b[0;31m \u001b[0mberlin_shape\u001b[0m \u001b[0;34m=\u001b[0m \u001b[0mshape\u001b[0m\u001b[0;34m(\u001b[0m\u001b[0mberlin_polyg\u001b[0m\u001b[0;34m[\u001b[0m\u001b[0;34m'geometry'\u001b[0m\u001b[0;34m]\u001b[0m\u001b[0;34m)\u001b[0m\u001b[0;34m\u001b[0m\u001b[0;34m\u001b[0m\u001b[0m\n\u001b[0m\u001b[1;32m      2\u001b[0m \u001b[0mberlin_polyg_utm1\u001b[0m \u001b[0;34m=\u001b[0m \u001b[0mtransform\u001b[0m\u001b[0;34m(\u001b[0m\u001b[0mtrans2xy\u001b[0m\u001b[0;34m,\u001b[0m \u001b[0mberlin_shape\u001b[0m\u001b[0;34m)\u001b[0m\u001b[0;34m\u001b[0m\u001b[0;34m\u001b[0m\u001b[0m\n",
      "\u001b[0;32m/opt/anaconda3/envs/DS1/lib/python3.8/site-packages/shapely/geometry/geo.py\u001b[0m in \u001b[0;36mshape\u001b[0;34m(context)\u001b[0m\n\u001b[1;32m    114\u001b[0m         \u001b[0;32mreturn\u001b[0m \u001b[0mGeometryCollection\u001b[0m\u001b[0;34m(\u001b[0m\u001b[0mgeoms\u001b[0m\u001b[0;34m)\u001b[0m\u001b[0;34m\u001b[0m\u001b[0;34m\u001b[0m\u001b[0m\n\u001b[1;32m    115\u001b[0m     \u001b[0;32melse\u001b[0m\u001b[0;34m:\u001b[0m\u001b[0;34m\u001b[0m\u001b[0;34m\u001b[0m\u001b[0m\n\u001b[0;32m--> 116\u001b[0;31m         \u001b[0;32mraise\u001b[0m \u001b[0mValueError\u001b[0m\u001b[0;34m(\u001b[0m\u001b[0;34m\"Unknown geometry type: %s\"\u001b[0m \u001b[0;34m%\u001b[0m \u001b[0mgeom_type\u001b[0m\u001b[0;34m)\u001b[0m\u001b[0;34m\u001b[0m\u001b[0;34m\u001b[0m\u001b[0m\n\u001b[0m\u001b[1;32m    117\u001b[0m \u001b[0;34m\u001b[0m\u001b[0m\n\u001b[1;32m    118\u001b[0m \u001b[0;34m\u001b[0m\u001b[0m\n",
      "\u001b[0;31mValueError\u001b[0m: Unknown geometry type: featurecollection"
     ]
    }
   ],
   "source": [
    "berlin_shape = shape(berlin_polyg['geometry'])\n",
    "berlin_polyg_utm1 = transform(trans2xy, berlin_shape)"
   ]
  },
  {
   "cell_type": "code",
   "execution_count": 7,
   "metadata": {},
   "outputs": [
    {
     "data": {
      "text/plain": [
       "<Projected CRS: EPSG:32633>\n",
       "Name: WGS 84 / UTM zone 33N\n",
       "Axis Info [cartesian]:\n",
       "- E[east]: Easting (metre)\n",
       "- N[north]: Northing (metre)\n",
       "Area of Use:\n",
       "- name: Between 12°E and 18°E, northern hemisphere between equator and 84°N, onshore and offshore. Austria. Bosnia and Herzegovina. Cameroon. Central African Republic. Chad. Congo. Croatia. Czechia. Democratic Republic of the Congo (Zaire). Gabon. Germany. Hungary. Italy. Libya. Malta. Niger. Nigeria. Norway. Poland. San Marino. Slovakia. Slovenia. Svalbard. Sweden. Vatican City State.\n",
       "- bounds: (12.0, 0.0, 18.0, 84.0)\n",
       "Coordinate Operation:\n",
       "- name: UTM zone 33N\n",
       "- method: Transverse Mercator\n",
       "Datum: World Geodetic System 1984\n",
       "- Ellipsoid: WGS 84\n",
       "- Prime Meridian: Greenwich"
      ]
     },
     "execution_count": 7,
     "metadata": {},
     "output_type": "execute_result"
    }
   ],
   "source": [
    "berlin_polyg_utm.crs"
   ]
  },
  {
   "cell_type": "code",
   "execution_count": 6,
   "metadata": {},
   "outputs": [],
   "source": [
    "address = 'Berlin Germany'\n",
    "geolocator = Nominatim(user_agent=\"foursquare_agent\")\n",
    "location = geolocator.geocode(address)\n",
    "berlin = [location.longitude, location.latitude]"
   ]
  },
  {
   "cell_type": "code",
   "execution_count": 9,
   "metadata": {},
   "outputs": [
    {
     "name": "stdout",
     "output_type": "stream",
     "text": [
      "Berlin coordinate, Lon= 13.3888599; Lat= 52.5170365\n",
      "Berlin transform to UTM, X= 390676.87103088724; Y= 5819766.874314442\n",
      "Berlin reverse transform, Lon= 13.3888599; Lat= 52.51703649999999\n"
     ]
    }
   ],
   "source": [
    "proj2xy = pyproj.Proj(\"epsg:32633\", preserve_units=False)\n",
    "x, y = proj2xy(berlin[0], berlin[1])\n",
    "lon, lat = proj2xy(x,y, inverse=True)\n",
    "print('Berlin coordinate, Lon= {}; Lat= {}'.format(berlin[0], berlin[1]))\n",
    "print('Berlin transform to UTM, X= {}; Y= {}'.format(x,y))\n",
    "print('Berlin reverse transform, Lon= {}; Lat= {}'.format(lon, lat))"
   ]
  },
  {
   "cell_type": "code",
   "execution_count": 10,
   "metadata": {},
   "outputs": [
    {
     "name": "stdout",
     "output_type": "stream",
     "text": [
      "Berlin center coordinate, Lon= 13.3888599; Lat= 52.5170365\n",
      "Berlin center transform to UTM, X= 390676.87103088724; Y= 5819766.874314442\n",
      "Berlin center reverse transform, Lon= 13.3888599; Lat= 52.51703649999999\n"
     ]
    }
   ],
   "source": [
    "transform2xy = pyproj.Transformer.from_crs(\"+proj=latlong +datum=WGS84 +ellps=WGS84\" , \"+proj=utm +zone=33 +datum=WGS84 +ellps=WGS84 +towgs84=0,0,0\")\n",
    "transform2ll = pyproj.Transformer.from_crs(\"+proj=utm +zone=33 +datum=WGS84 +ellps=WGS84\" , \"+proj=latlong +datum=WGS84 +ellps=WGS84 +towgs84=0,0,0\")\n",
    "x, y = transform2xy.transform(berlin[0], berlin[1])\n",
    "lon, lat = transform2ll.transform(x,y)\n",
    "print('Berlin center coordinate, Lon= {}; Lat= {}'.format(berlin[0], berlin[1]))\n",
    "print('Berlin center transform to UTM, X= {}; Y= {}'.format(x,y))\n",
    "print('Berlin center reverse transform, Lon= {}; Lat= {}'.format(lon, lat))"
   ]
  },
  {
   "cell_type": "code",
   "execution_count": 7,
   "metadata": {},
   "outputs": [
    {
     "name": "stdout",
     "output_type": "stream",
     "text": [
      "Berlin center coordinate, Lon= 13.3888599; Lat= 52.5170365\n",
      "Berlin center transform to UTM, X= 390676.87103088724; Y= 5819766.874314442\n",
      "Berlin center reverse transform, Lon= 13.3888599; Lat= 52.51703649999999\n"
     ]
    }
   ],
   "source": [
    "trans2xy = pyproj.Transformer.from_crs(\"epsg:4326\",\"epsg:32633\", always_xy=True)\n",
    "trans2ll = pyproj.Transformer.from_crs(\"epsg:32633\",\"epsg:4326\", always_xy=True)\n",
    "x, y = trans2xy.transform(berlin[0], berlin[1])\n",
    "lon, lat = trans2ll.transform(x,y)\n",
    "print('Berlin center coordinate, Lon= {}; Lat= {}'.format(berlin[0], berlin[1]))\n",
    "print('Berlin center transform to UTM, X= {}; Y= {}'.format(x,y))\n",
    "print('Berlin center reverse transform, Lon= {}; Lat= {}'.format(lon, lat))"
   ]
  },
  {
   "cell_type": "code",
   "execution_count": 13,
   "metadata": {},
   "outputs": [
    {
     "name": "stdout",
     "output_type": "stream",
     "text": [
      "415786.55400086974 5837259.270123978\n"
     ]
    }
   ],
   "source": [
    "utmbounds = berlin_polyg_utm.total_bounds\n",
    "print (utmbounds[2], utmbounds[3])"
   ]
  },
  {
   "cell_type": "code",
   "execution_count": 23,
   "metadata": {},
   "outputs": [
    {
     "name": "stdout",
     "output_type": "stream",
     "text": [
      "416240.67868526874 5836894.550149376\n"
     ]
    }
   ],
   "source": [
    "llbounds = berlin_polyg.total_bounds\n",
    "maxx, maxy = trans2xy.transform(llbounds[2], llbounds[3])\n",
    "print (maxx, maxy)"
   ]
  },
  {
   "cell_type": "code",
   "execution_count": 28,
   "metadata": {},
   "outputs": [
    {
     "name": "stdout",
     "output_type": "stream",
     "text": [
      "416240.67868526874 5836894.550149376\n"
     ]
    }
   ],
   "source": [
    "maxx2, maxy2 = transform2xy.transform(llbounds[2],llbounds[3])\n",
    "print (maxx2, maxy2)"
   ]
  },
  {
   "cell_type": "code",
   "execution_count": 24,
   "metadata": {},
   "outputs": [
    {
     "name": "stdout",
     "output_type": "stream",
     "text": [
      "Min Lon = 13.088347614730992\n",
      "Max Lon = 13.761159145035254\n",
      "Min Lat = 52.338245549997296\n",
      "Max Lat = 52.67550765972353\n",
      "The length of Berlin's X range is 0.6728115303042621 decimal degrees and Y range is 0.3372621097262325 \n",
      "decimal degrees.\n",
      "The length of Berlin's X radius is 0.33640576515213105 decimal degrees and Y radius is 0.16863105486311625 decimal degrees.\n"
     ]
    }
   ],
   "source": [
    "minlon = berlin_polyg.total_bounds[0]\n",
    "maxlon = berlin_polyg.total_bounds[2]\n",
    "minlat = berlin_polyg.total_bounds[1]\n",
    "maxlat = berlin_polyg.total_bounds[3]\n",
    "print(\"Min Lon = {}\\nMax Lon = {}\\nMin Lat = {}\\nMax Lat = {}\".format(minlon ,maxlon ,minlat, maxlat))\n",
    "berlin_x_range = maxlon - minlon\n",
    "berlin_y_range = maxlat - minlat\n",
    "print(\"The length of Berlin's X range is {} decimal degrees and Y range is {} \\ndecimal degrees.\".format(\n",
    "    berlin_x_range, berlin_y_range))\n",
    "berlin_x_radius = berlin_x_range/2\n",
    "berlin_y_radius = berlin_y_range/2\n",
    "print(\"The length of Berlin's X radius is {} decimal degrees and Y radius is {} decimal degrees.\".format(\n",
    "    berlin_x_radius, berlin_y_radius))"
   ]
  },
  {
   "cell_type": "code",
   "execution_count": 25,
   "metadata": {},
   "outputs": [
    {
     "name": "stdout",
     "output_type": "stream",
     "text": [
      "Min X = 370000.82600134326\n",
      "Max X = 415786.55400086974\n",
      "Min Y = 5799520.662123909\n",
      "Max Y = 5837259.270123978\n",
      "The length of Berlin's X range is 45785.72799952648 meters and Y range is 37738.608000068925 meters.\n",
      "The length of Berlin's X radius is 22892.86399976324 meters and Y radius is 18869.304000034463 meters.\n"
     ]
    }
   ],
   "source": [
    "minx = berlin_polyg_utm.bounds.iloc[0,0]\n",
    "maxx = berlin_polyg_utm.bounds.iloc[0,2]\n",
    "miny = berlin_polyg_utm.bounds.iloc[0,1]\n",
    "maxy = berlin_polyg_utm.bounds.iloc[0,3]\n",
    "print(\"Min X = {}\\nMax X = {}\\nMin Y = {}\\nMax Y = {}\".format(minx ,maxx ,miny, maxy))\n",
    "berlin_x_range = maxx - minx\n",
    "berlin_y_range = maxy - miny\n",
    "print(\"The length of Berlin's X range is {} meters and Y range is {} meters.\".format(\n",
    "    berlin_x_range, berlin_y_range))\n",
    "berlin_x_radius = berlin_x_range/2\n",
    "berlin_y_radius = berlin_y_range/2\n",
    "print(\"The length of Berlin's X radius is {} meters and Y radius is {} meters.\".format(\n",
    "    berlin_x_radius, berlin_y_radius))"
   ]
  },
  {
   "cell_type": "code",
   "execution_count": 26,
   "metadata": {},
   "outputs": [
    {
     "name": "stdout",
     "output_type": "stream",
     "text": [
      "Min X = 369761.53985129925\n",
      "Max X = 416240.67868526874\n",
      "Min Y = 5800380.171821327\n",
      "Max Y = 5836894.550149376\n",
      "The length of Berlin's X range is 46479.13883396948 meters and Y range is 36514.378328048624 meters.\n",
      "The length of Berlin's X radius is 23239.56941698474 meters and Y radius is 18257.189164024312 meters.\n"
     ]
    }
   ],
   "source": [
    "minx1, miny1 = trans2xy.transform(minlon, minlat) \n",
    "maxx1, maxy1 = trans2xy.transform(maxlon, maxlat)\n",
    "print(\"Min X = {}\\nMax X = {}\\nMin Y = {}\\nMax Y = {}\".format(minx1 ,maxx1 ,miny1, maxy1))\n",
    "berlin_x_range1 = maxx1 - minx1\n",
    "berlin_y_range1 = maxy1 - miny1\n",
    "print(\"The length of Berlin's X range is {} meters and Y range is {} meters.\".format(\n",
    "    berlin_x_range1, berlin_y_range1))\n",
    "berlin_x_radius1 = berlin_x_range1/2\n",
    "berlin_y_radius1 = berlin_y_range1/2\n",
    "print(\"The length of Berlin's X radius is {} meters and Y radius is {} meters.\".format(\n",
    "    berlin_x_radius1, berlin_y_radius1))"
   ]
  },
  {
   "cell_type": "code",
   "execution_count": 29,
   "metadata": {},
   "outputs": [
    {
     "name": "stdout",
     "output_type": "stream",
     "text": [
      "Min X = 369761.53985129925\n",
      "Max X = 416240.67868526874\n",
      "Min Y = 5800380.171821327\n",
      "Max Y = 5836894.550149376\n",
      "The length of Berlin's X range is 46479.13883396948 meters and Y range is 36514.378328048624 meters.\n",
      "The length of Berlin's X radius is 23239.56941698474 meters and Y radius is 18257.189164024312 meters.\n"
     ]
    }
   ],
   "source": [
    "minx2, miny2 = transform2xy.transform(minlon, minlat) \n",
    "maxx2, maxy2 = transform2xy.transform(maxlon, maxlat)\n",
    "print(\"Min X = {}\\nMax X = {}\\nMin Y = {}\\nMax Y = {}\".format(minx2 ,maxx2 ,miny2, maxy2))\n",
    "berlin_x_range2 = maxx2 - minx2\n",
    "berlin_y_range2 = maxy2 - miny2\n",
    "print(\"The length of Berlin's X range is {} meters and Y range is {} meters.\".format(\n",
    "    berlin_x_range2, berlin_y_range2))\n",
    "berlin_x_radius2 = berlin_x_range2/2\n",
    "berlin_y_radius2 = berlin_y_range2/2\n",
    "print(\"The length of Berlin's X radius is {} meters and Y radius is {} meters.\".format(\n",
    "    berlin_x_radius2, berlin_y_radius2))"
   ]
  },
  {
   "cell_type": "code",
   "execution_count": null,
   "metadata": {},
   "outputs": [],
   "source": []
  }
 ],
 "metadata": {
  "kernelspec": {
   "display_name": "Python 3",
   "language": "python",
   "name": "python3"
  },
  "language_info": {
   "codemirror_mode": {
    "name": "ipython",
    "version": 3
   },
   "file_extension": ".py",
   "mimetype": "text/x-python",
   "name": "python",
   "nbconvert_exporter": "python",
   "pygments_lexer": "ipython3",
   "version": "3.8.5"
  }
 },
 "nbformat": 4,
 "nbformat_minor": 4
}
