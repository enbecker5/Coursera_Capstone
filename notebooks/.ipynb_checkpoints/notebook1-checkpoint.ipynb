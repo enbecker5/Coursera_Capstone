{
 "cells": [
  {
   "cell_type": "markdown",
   "metadata": {},
   "source": [
    "## This is the first notebook added to the IBM Data Science Professional Certification Capstone Project ##"
   ]
  },
  {
   "cell_type": "code",
   "execution_count": null,
   "metadata": {},
   "outputs": [],
   "source": [
    "import pandas as pd"
   ]
  },
  {
   "cell_type": "code",
   "execution_count": null,
   "metadata": {},
   "outputs": [],
   "source": [
    "import numpy as np"
   ]
  },
  {
   "cell_type": "code",
   "execution_count": null,
   "metadata": {},
   "outputs": [],
   "source": [
    "print(\"Hello Capstone Project Course!\")"
   ]
  },
  {
   "cell_type": "code",
   "execution_count": null,
   "metadata": {},
   "outputs": [],
   "source": [
    "#!pip install pyproj\n",
    "#!pip install shapely"
   ]
  },
  {
   "cell_type": "code",
   "execution_count": 1,
   "metadata": {},
   "outputs": [
    {
     "name": "stdout",
     "output_type": "stream",
     "text": [
      "Requirement already satisfied: geopandas in /opt/anaconda3/envs/DS1/lib/python3.8/site-packages (0.8.1)\n",
      "Requirement already satisfied: fiona in /opt/anaconda3/envs/DS1/lib/python3.8/site-packages (from geopandas) (1.8.18)\n",
      "Requirement already satisfied: pandas>=0.23.0 in /opt/anaconda3/envs/DS1/lib/python3.8/site-packages (from geopandas) (1.1.5)\n",
      "Requirement already satisfied: pyproj>=2.2.0 in /opt/anaconda3/envs/DS1/lib/python3.8/site-packages (from geopandas) (3.0.0.post1)\n",
      "Requirement already satisfied: shapely in /opt/anaconda3/envs/DS1/lib/python3.8/site-packages (from geopandas) (1.7.1)\n",
      "Requirement already satisfied: pytz>=2017.2 in /opt/anaconda3/envs/DS1/lib/python3.8/site-packages (from pandas>=0.23.0->geopandas) (2020.4)\n",
      "Requirement already satisfied: python-dateutil>=2.7.3 in /opt/anaconda3/envs/DS1/lib/python3.8/site-packages (from pandas>=0.23.0->geopandas) (2.8.1)\n",
      "Requirement already satisfied: numpy>=1.15.4 in /opt/anaconda3/envs/DS1/lib/python3.8/site-packages (from pandas>=0.23.0->geopandas) (1.19.4)\n",
      "Requirement already satisfied: certifi in /opt/anaconda3/envs/DS1/lib/python3.8/site-packages (from pyproj>=2.2.0->geopandas) (2020.12.5)\n",
      "Requirement already satisfied: six>=1.5 in /opt/anaconda3/envs/DS1/lib/python3.8/site-packages (from python-dateutil>=2.7.3->pandas>=0.23.0->geopandas) (1.15.0)\n",
      "Requirement already satisfied: click<8,>=4.0 in /opt/anaconda3/envs/DS1/lib/python3.8/site-packages (from fiona->geopandas) (7.1.2)\n",
      "Requirement already satisfied: click-plugins>=1.0 in /opt/anaconda3/envs/DS1/lib/python3.8/site-packages (from fiona->geopandas) (1.1.1)\n",
      "Requirement already satisfied: munch in /opt/anaconda3/envs/DS1/lib/python3.8/site-packages (from fiona->geopandas) (2.5.0)\n",
      "Requirement already satisfied: attrs>=17 in /opt/anaconda3/envs/DS1/lib/python3.8/site-packages (from fiona->geopandas) (20.3.0)\n",
      "Requirement already satisfied: cligj>=0.5 in /opt/anaconda3/envs/DS1/lib/python3.8/site-packages (from fiona->geopandas) (0.7.1)\n"
     ]
    }
   ],
   "source": [
    "!pip install --upgrade geopandas"
   ]
  },
  {
   "cell_type": "code",
   "execution_count": null,
   "metadata": {},
   "outputs": [],
   "source": [
    "#!pip install descartes"
   ]
  },
  {
   "cell_type": "code",
   "execution_count": null,
   "metadata": {},
   "outputs": [],
   "source": [
    "#!pip install geopandas\n",
    "#!pip install contextily"
   ]
  },
  {
   "cell_type": "code",
   "execution_count": 1,
   "metadata": {},
   "outputs": [],
   "source": [
    "import numpy as np\n",
    "import pandas as pd\n",
    "import requests\n",
    "import urllib\n",
    "import io\n",
    "import json\n",
    "import lxml.html as lh\n",
    "import bs4 as bs\n",
    "import folium\n",
    "import pyproj\n",
    "from geopy.geocoders import Nominatim\n",
    "from shapely.geometry import shape, Point\n",
    "import shapely.ops as ops\n",
    "import geopandas as gpd\n",
    "import contextily as ctx"
   ]
  },
  {
   "cell_type": "markdown",
   "metadata": {},
   "source": [
    "## Exploration & Data Wrangling for Final Project ##"
   ]
  },
  {
   "cell_type": "markdown",
   "metadata": {},
   "source": [
    "### Dataset 1: Dining, Retail, & Other Businesses with Delivery and Takeout Service ###"
   ]
  },
  {
   "cell_type": "markdown",
   "metadata": {},
   "source": [
    "This dataset, although interesting, was not used in the final project. Data wrangling saved for own learning purposes."
   ]
  },
  {
   "cell_type": "code",
   "execution_count": null,
   "metadata": {},
   "outputs": [],
   "source": [
    "#Berlin Open DataSimpleSearchAPI Base URL\n",
    "#http://www.berlin.de/sen/finanzen/service/zuwendungsdatenbank/index.php/index.csv?q=Test"
   ]
  },
  {
   "cell_type": "code",
   "execution_count": null,
   "metadata": {},
   "outputs": [],
   "source": [
    "url = 'https://www.berlin.de/sen/web/service/liefer-und-abholdienste/index.php/index/all.csv?q='\n",
    "resp = requests.get(url).content\n",
    "deliv_takeaw_df = pd.read_csv(io.StringIO(str(resp.decode('utf-8'))), sep=';')\n",
    "deliv_takeaw_df.head()"
   ]
  },
  {
   "cell_type": "code",
   "execution_count": null,
   "metadata": {},
   "outputs": [],
   "source": [
    "deliv_takeaw_df.shape"
   ]
  },
  {
   "cell_type": "code",
   "execution_count": null,
   "metadata": {},
   "outputs": [],
   "source": [
    "deliv_takeaw_df.replace({'FALSCH':False,'WAHR':True}, inplace=True)"
   ]
  },
  {
   "cell_type": "code",
   "execution_count": null,
   "metadata": {},
   "outputs": [],
   "source": [
    "deliv_takeaw_df.head()"
   ]
  },
  {
   "cell_type": "code",
   "execution_count": null,
   "metadata": {},
   "outputs": [],
   "source": [
    "deliv_takeaw_df['art'].unique()"
   ]
  },
  {
   "cell_type": "code",
   "execution_count": null,
   "metadata": {},
   "outputs": [],
   "source": [
    "deliv_takeaw_df['art'].replace({'Gastronomie (Café, Restaurant, Imbiss, Lebensmittelhandlung, usw.)':'Food service (Café, Restaurant, Diner, Grocery, etc.)',\n",
    "                    'Bürobedarf':'Office Supplies','Anderes (bitte bei der nächsten Frage beschreiben)':'Other', \n",
    "                    'Haushalt':'Household','Getränkemarkt':'Beverage Store', 'Baumarkt':'Hardware Store', 'Gesundheit':'Health',\n",
    "                    'Mode / Bekleidung':'Fashion / Clothing', 'Möbel':'Furniture', 'Blumenladen':'Flower Shop',\n",
    "                    'Buchhandlung':'Bookstore','Sportwaren (inkl. Fahrradgeschäfte)':'Sporting Goods (incl. Bicycle Shops)'}, inplace=True)"
   ]
  },
  {
   "cell_type": "code",
   "execution_count": null,
   "metadata": {},
   "outputs": [],
   "source": [
    "deliv_takeaw_df.rename(columns={'name':'Name','plz':'Postal Code','art':'Category','lieferung':'Delivery','selbstabholung':'Takeaway'}, inplace=True)\n",
    "deliv_takeaw_df.head()"
   ]
  },
  {
   "cell_type": "code",
   "execution_count": null,
   "metadata": {},
   "outputs": [],
   "source": [
    "#deliv_takeaw_df.to_csv(path_or_buf='~/Projects/IBMCertDS/Coursera_Capstone/data/deliv_takeaw_pre.csv')"
   ]
  },
  {
   "cell_type": "markdown",
   "metadata": {},
   "source": [
    "### Dataset 2: Berlin Resident Registry 31/12/2020 ###"
   ]
  },
  {
   "cell_type": "code",
   "execution_count": null,
   "metadata": {},
   "outputs": [],
   "source": [
    "url = 'https://www.statistik-berlin-brandenburg.de/opendata/EWR_Ortsteile_2019-12-31.csv'\n",
    "dem_df_raw = pd.read_csv(url, encoding='latin-1', sep=';', delimiter=';')\n",
    "dem_df_raw.head()"
   ]
  },
  {
   "cell_type": "code",
   "execution_count": null,
   "metadata": {},
   "outputs": [],
   "source": [
    "dem_df_raw.rename(columns = {'Bez-Name': 'District', 'Ortst-Name':'Neighborhood', 'Altersgr': 'AgeGroup', 'Häufigkeit' : 'Population'}, inplace=True)\n",
    "dem_df_raw = dem_df_raw[['District','Neighborhood','AgeGroup','Population']]\n",
    "dem_df_raw"
   ]
  },
  {
   "cell_type": "markdown",
   "metadata": {},
   "source": [
    "Aggregate and sum the populations of age groups for each district."
   ]
  },
  {
   "cell_type": "code",
   "execution_count": null,
   "metadata": {},
   "outputs": [],
   "source": [
    "dem_df_distr = dem_df_raw[['District','Population','AgeGroup']].groupby(['District', 'AgeGroup']).sum().reset_index()\n",
    "dem_df_distr.head(10)"
   ]
  },
  {
   "cell_type": "code",
   "execution_count": null,
   "metadata": {},
   "outputs": [],
   "source": [
    "dem_df_distr = pd.pivot_table(dem_df_distr[['District','Population','AgeGroup']], values='Population', index=['District'],columns=['AgeGroup'],aggfunc=np.sum)\n",
    "dem_df_distr.head()"
   ]
  },
  {
   "cell_type": "markdown",
   "metadata": {},
   "source": [
    "Aggregate age groups into generational bins more appropriate for this analysis"
   ]
  },
  {
   "cell_type": "code",
   "execution_count": null,
   "metadata": {},
   "outputs": [],
   "source": [
    "dem_df_distr['0-15'] = dem_df_distr[dem_df_distr.columns[0:3]].sum(axis = 1)\n",
    "dem_df_distr['15-30'] = dem_df_distr[dem_df_distr.columns[3:6]].sum(axis = 1)\n",
    "dem_df_distr['30-50'] = dem_df_distr[dem_df_distr.columns[6:10]].sum(axis = 1)\n",
    "dem_df_distr['50-65'] = dem_df_distr[dem_df_distr.columns[10:13]].sum(axis = 1)\n",
    "dem_df_distr['>65'] = dem_df_distr[dem_df_distr.columns[13:20]].sum(axis = 1)\n",
    "dem_df_distr['Total'] = dem_df_distr[dem_df_distr.columns[1:20]].sum(axis = 1)\n",
    "dem_df_distr=dem_df_distr[['0-15','15-30','30-50','50-65','>65','Total']]\n",
    "dem_df_distr"
   ]
  },
  {
   "cell_type": "markdown",
   "metadata": {},
   "source": [
    "Repeat the process for Neighborhoods, rather than districts."
   ]
  },
  {
   "cell_type": "code",
   "execution_count": null,
   "metadata": {},
   "outputs": [],
   "source": [
    "dem_df_hood = dem_df_raw[['Neighborhood','Population','AgeGroup']].groupby(['Neighborhood', 'AgeGroup']).sum().reset_index()\n",
    "dem_df_hood = pd.pivot_table(dem_df_hood[['Neighborhood','Population','AgeGroup']], values='Population', index=['Neighborhood'],columns=['AgeGroup'],aggfunc=np.sum)\n",
    "dem_df_hood['0-15'] = dem_df_hood[dem_df_hood.columns[0:3]].sum(axis = 1)\n",
    "dem_df_hood['15-30'] = dem_df_hood[dem_df_hood.columns[3:6]].sum(axis = 1)\n",
    "dem_df_hood['30-50'] = dem_df_hood[dem_df_hood.columns[6:10]].sum(axis = 1)\n",
    "dem_df_hood['50-65'] = dem_df_hood[dem_df_hood.columns[10:13]].sum(axis = 1)\n",
    "dem_df_hood['>65'] = dem_df_hood[dem_df_hood.columns[13:20]].sum(axis = 1)\n",
    "dem_df_hood['Total'] = dem_df_hood[dem_df_hood.columns[1:20]].sum(axis = 1)\n",
    "dem_df_hood = dem_df_hood[['0-15','15-30','30-50','50-65','>65','Total']]\n",
    "dem_df_hood"
   ]
  },
  {
   "cell_type": "code",
   "execution_count": null,
   "metadata": {},
   "outputs": [],
   "source": [
    "# dem_df_hood.to_csv(path_or_buf='~/Projects/IBMCertDS/Coursera_Capstone/data/dem_df_hood.csv')"
   ]
  },
  {
   "cell_type": "markdown",
   "metadata": {},
   "source": [
    "### Dataset 3: Berlin Districts ###"
   ]
  },
  {
   "cell_type": "markdown",
   "metadata": {},
   "source": [
    "Get Center coordinates for Berlin and create a sampling grid to be used to query Foursquare API, requiring conversion of UTM coordinates (formatted as x,y in m) to Latitude/Longitude coordinates"
   ]
  },
  {
   "cell_type": "code",
   "execution_count": 3,
   "metadata": {},
   "outputs": [],
   "source": [
    "urldistr = 'https://tsb-opendata.s3.eu-central-1.amazonaws.com/bezirksgrenzen/bezirksgrenzen.geojson'\n",
    "distr_json = requests.get(urldistr).json()"
   ]
  },
  {
   "cell_type": "code",
   "execution_count": 3,
   "metadata": {},
   "outputs": [
    {
     "data": {
      "text/html": [
       "<div>\n",
       "<style scoped>\n",
       "    .dataframe tbody tr th:only-of-type {\n",
       "        vertical-align: middle;\n",
       "    }\n",
       "\n",
       "    .dataframe tbody tr th {\n",
       "        vertical-align: top;\n",
       "    }\n",
       "\n",
       "    .dataframe thead th {\n",
       "        text-align: right;\n",
       "    }\n",
       "</style>\n",
       "<table border=\"1\" class=\"dataframe\">\n",
       "  <thead>\n",
       "    <tr style=\"text-align: right;\">\n",
       "      <th></th>\n",
       "      <th>District</th>\n",
       "      <th>Latitude</th>\n",
       "      <th>Longitude</th>\n",
       "      <th>Area</th>\n",
       "    </tr>\n",
       "  </thead>\n",
       "  <tbody>\n",
       "    <tr>\n",
       "      <th>0</th>\n",
       "      <td>Charlottenburg-Wilmersdorf</td>\n",
       "      <td>52.507963</td>\n",
       "      <td>13.272751</td>\n",
       "      <td>64.692823</td>\n",
       "    </tr>\n",
       "    <tr>\n",
       "      <th>1</th>\n",
       "      <td>Friedrichshain-Kreuzberg</td>\n",
       "      <td>52.506897</td>\n",
       "      <td>13.450698</td>\n",
       "      <td>20.399734</td>\n",
       "    </tr>\n",
       "    <tr>\n",
       "      <th>2</th>\n",
       "      <td>Lichtenberg</td>\n",
       "      <td>52.532284</td>\n",
       "      <td>13.490921</td>\n",
       "      <td>52.119980</td>\n",
       "    </tr>\n",
       "    <tr>\n",
       "      <th>3</th>\n",
       "      <td>Marzahn-Hellersdorf</td>\n",
       "      <td>52.522474</td>\n",
       "      <td>13.585397</td>\n",
       "      <td>61.817755</td>\n",
       "    </tr>\n",
       "    <tr>\n",
       "      <th>4</th>\n",
       "      <td>Mitte</td>\n",
       "      <td>52.533230</td>\n",
       "      <td>13.359798</td>\n",
       "      <td>39.398803</td>\n",
       "    </tr>\n",
       "    <tr>\n",
       "      <th>5</th>\n",
       "      <td>Neukölln</td>\n",
       "      <td>52.445896</td>\n",
       "      <td>13.443075</td>\n",
       "      <td>44.931675</td>\n",
       "    </tr>\n",
       "    <tr>\n",
       "      <th>6</th>\n",
       "      <td>Pankow</td>\n",
       "      <td>52.597658</td>\n",
       "      <td>13.436379</td>\n",
       "      <td>103.216361</td>\n",
       "    </tr>\n",
       "    <tr>\n",
       "      <th>7</th>\n",
       "      <td>Reinickendorf</td>\n",
       "      <td>52.604845</td>\n",
       "      <td>13.288142</td>\n",
       "      <td>89.322845</td>\n",
       "    </tr>\n",
       "    <tr>\n",
       "      <th>8</th>\n",
       "      <td>Spandau</td>\n",
       "      <td>52.519206</td>\n",
       "      <td>13.181870</td>\n",
       "      <td>91.875065</td>\n",
       "    </tr>\n",
       "    <tr>\n",
       "      <th>9</th>\n",
       "      <td>Steglitz-Zehlendorf</td>\n",
       "      <td>52.429450</td>\n",
       "      <td>13.242071</td>\n",
       "      <td>102.560082</td>\n",
       "    </tr>\n",
       "    <tr>\n",
       "      <th>10</th>\n",
       "      <td>Tempelhof-Schöneberg</td>\n",
       "      <td>52.440662</td>\n",
       "      <td>13.388299</td>\n",
       "      <td>53.049920</td>\n",
       "    </tr>\n",
       "    <tr>\n",
       "      <th>11</th>\n",
       "      <td>Treptow-Köpenick</td>\n",
       "      <td>52.417898</td>\n",
       "      <td>13.626335</td>\n",
       "      <td>167.734542</td>\n",
       "    </tr>\n",
       "  </tbody>\n",
       "</table>\n",
       "</div>"
      ],
      "text/plain": [
       "                      District   Latitude  Longitude        Area\n",
       "0   Charlottenburg-Wilmersdorf  52.507963  13.272751   64.692823\n",
       "1     Friedrichshain-Kreuzberg  52.506897  13.450698   20.399734\n",
       "2                  Lichtenberg  52.532284  13.490921   52.119980\n",
       "3          Marzahn-Hellersdorf  52.522474  13.585397   61.817755\n",
       "4                        Mitte  52.533230  13.359798   39.398803\n",
       "5                     Neukölln  52.445896  13.443075   44.931675\n",
       "6                       Pankow  52.597658  13.436379  103.216361\n",
       "7                Reinickendorf  52.604845  13.288142   89.322845\n",
       "8                      Spandau  52.519206  13.181870   91.875065\n",
       "9          Steglitz-Zehlendorf  52.429450  13.242071  102.560082\n",
       "10        Tempelhof-Schöneberg  52.440662  13.388299   53.049920\n",
       "11            Treptow-Köpenick  52.417898  13.626335  167.734542"
      ]
     },
     "execution_count": 3,
     "metadata": {},
     "output_type": "execute_result"
    }
   ],
   "source": [
    "area = []\n",
    "lats = []\n",
    "lons = []\n",
    "name = []\n",
    "\n",
    "for feature in distr_json['features']:\n",
    "        name.append(feature['properties']['Gemeinde_name'])\n",
    "        polygon = shape(feature['geometry'])\n",
    "        p=polygon.representative_point()\n",
    "        lons.append(p.x)\n",
    "        lats.append(p.y)\n",
    "        \n",
    "        geom_aea = ops.transform(\n",
    "            pyproj.Proj(\n",
    "            proj='aea',\n",
    "            lat_1=polygon.bounds[1],\n",
    "            lat_2=polygon.bounds[3]),\n",
    "        polygon)\n",
    "        a = geom_aea.area/1000**2\n",
    "        area.append(a)             \n",
    "\n",
    "districts= pd.DataFrame(data={'District':name, 'Latitude':lats, 'Longitude':lons, 'Area':area})\n",
    "districts.sort_values(['District'], ascending=True, axis=0, inplace=True)\n",
    "districts.reset_index(drop=True, inplace=True)\n",
    "districts"
   ]
  },
  {
   "cell_type": "markdown",
   "metadata": {},
   "source": [
    "Example using the ETRS89-extended / Lambert Azimuthal Equal Area Projection (LAEA) Europe CRS, EPSG code 3035.  This yields the same results, affirming that both equal area projections produce accurate area values."
   ]
  },
  {
   "cell_type": "code",
   "execution_count": 47,
   "metadata": {},
   "outputs": [
    {
     "data": {
      "text/html": [
       "<div>\n",
       "<style scoped>\n",
       "    .dataframe tbody tr th:only-of-type {\n",
       "        vertical-align: middle;\n",
       "    }\n",
       "\n",
       "    .dataframe tbody tr th {\n",
       "        vertical-align: top;\n",
       "    }\n",
       "\n",
       "    .dataframe thead th {\n",
       "        text-align: right;\n",
       "    }\n",
       "</style>\n",
       "<table border=\"1\" class=\"dataframe\">\n",
       "  <thead>\n",
       "    <tr style=\"text-align: right;\">\n",
       "      <th></th>\n",
       "      <th>District</th>\n",
       "      <th>Latitude</th>\n",
       "      <th>Longitude</th>\n",
       "      <th>Area</th>\n",
       "    </tr>\n",
       "  </thead>\n",
       "  <tbody>\n",
       "    <tr>\n",
       "      <th>0</th>\n",
       "      <td>Charlottenburg-Wilmersdorf</td>\n",
       "      <td>52.507963</td>\n",
       "      <td>13.272751</td>\n",
       "      <td>64.692823</td>\n",
       "    </tr>\n",
       "    <tr>\n",
       "      <th>1</th>\n",
       "      <td>Friedrichshain-Kreuzberg</td>\n",
       "      <td>52.506897</td>\n",
       "      <td>13.450698</td>\n",
       "      <td>20.399734</td>\n",
       "    </tr>\n",
       "    <tr>\n",
       "      <th>2</th>\n",
       "      <td>Lichtenberg</td>\n",
       "      <td>52.532284</td>\n",
       "      <td>13.490921</td>\n",
       "      <td>52.119980</td>\n",
       "    </tr>\n",
       "    <tr>\n",
       "      <th>3</th>\n",
       "      <td>Marzahn-Hellersdorf</td>\n",
       "      <td>52.522474</td>\n",
       "      <td>13.585397</td>\n",
       "      <td>61.817755</td>\n",
       "    </tr>\n",
       "    <tr>\n",
       "      <th>4</th>\n",
       "      <td>Mitte</td>\n",
       "      <td>52.533230</td>\n",
       "      <td>13.359798</td>\n",
       "      <td>39.398803</td>\n",
       "    </tr>\n",
       "    <tr>\n",
       "      <th>5</th>\n",
       "      <td>Neukölln</td>\n",
       "      <td>52.445896</td>\n",
       "      <td>13.443075</td>\n",
       "      <td>44.931675</td>\n",
       "    </tr>\n",
       "    <tr>\n",
       "      <th>6</th>\n",
       "      <td>Pankow</td>\n",
       "      <td>52.597658</td>\n",
       "      <td>13.436379</td>\n",
       "      <td>103.216361</td>\n",
       "    </tr>\n",
       "    <tr>\n",
       "      <th>7</th>\n",
       "      <td>Reinickendorf</td>\n",
       "      <td>52.604845</td>\n",
       "      <td>13.288142</td>\n",
       "      <td>89.322845</td>\n",
       "    </tr>\n",
       "    <tr>\n",
       "      <th>8</th>\n",
       "      <td>Spandau</td>\n",
       "      <td>52.519206</td>\n",
       "      <td>13.181870</td>\n",
       "      <td>91.875065</td>\n",
       "    </tr>\n",
       "    <tr>\n",
       "      <th>9</th>\n",
       "      <td>Steglitz-Zehlendorf</td>\n",
       "      <td>52.429450</td>\n",
       "      <td>13.242071</td>\n",
       "      <td>102.560082</td>\n",
       "    </tr>\n",
       "    <tr>\n",
       "      <th>10</th>\n",
       "      <td>Tempelhof-Schöneberg</td>\n",
       "      <td>52.440662</td>\n",
       "      <td>13.388299</td>\n",
       "      <td>53.049920</td>\n",
       "    </tr>\n",
       "    <tr>\n",
       "      <th>11</th>\n",
       "      <td>Treptow-Köpenick</td>\n",
       "      <td>52.417898</td>\n",
       "      <td>13.626335</td>\n",
       "      <td>167.734542</td>\n",
       "    </tr>\n",
       "  </tbody>\n",
       "</table>\n",
       "</div>"
      ],
      "text/plain": [
       "                      District   Latitude  Longitude        Area\n",
       "0   Charlottenburg-Wilmersdorf  52.507963  13.272751   64.692823\n",
       "1     Friedrichshain-Kreuzberg  52.506897  13.450698   20.399734\n",
       "2                  Lichtenberg  52.532284  13.490921   52.119980\n",
       "3          Marzahn-Hellersdorf  52.522474  13.585397   61.817755\n",
       "4                        Mitte  52.533230  13.359798   39.398803\n",
       "5                     Neukölln  52.445896  13.443075   44.931675\n",
       "6                       Pankow  52.597658  13.436379  103.216361\n",
       "7                Reinickendorf  52.604845  13.288142   89.322845\n",
       "8                      Spandau  52.519206  13.181870   91.875065\n",
       "9          Steglitz-Zehlendorf  52.429450  13.242071  102.560082\n",
       "10        Tempelhof-Schöneberg  52.440662  13.388299   53.049920\n",
       "11            Treptow-Köpenick  52.417898  13.626335  167.734542"
      ]
     },
     "execution_count": 47,
     "metadata": {},
     "output_type": "execute_result"
    }
   ],
   "source": [
    "area = []\n",
    "lats = []\n",
    "lons = []\n",
    "name = []\n",
    "\n",
    "for feature in distr_json['features']:\n",
    "        name.append(feature['properties']['Gemeinde_name'])\n",
    "        polygon = shape(feature['geometry'])\n",
    "        p=polygon.representative_point()\n",
    "        lons.append(p.x)\n",
    "        lats.append(p.y)\n",
    "        \n",
    "        geom_aea = ops.transform(\n",
    "            pyproj.Proj(\"epsg:3035\"\n",
    "            ),\n",
    "        polygon)\n",
    "        a = geom_aea.area/1000**2\n",
    "        area.append(a)           \n",
    "\n",
    "districts1= pd.DataFrame(data={'District':name, 'Latitude':lats, 'Longitude':lons, 'Area':area})\n",
    "districts1.sort_values(['District'], ascending=True, axis=0, inplace=True)\n",
    "districts1.reset_index(drop=True, inplace=True)\n",
    "districts1\n",
    "\n",
    "\n"
   ]
  },
  {
   "cell_type": "code",
   "execution_count": null,
   "metadata": {},
   "outputs": [],
   "source": [
    "# districts.to_csv(path_or_buf='~/Projects/IBMCertDS/Coursera_Capstone/data/districts.csv')"
   ]
  },
  {
   "cell_type": "code",
   "execution_count": null,
   "metadata": {},
   "outputs": [],
   "source": [
    "# create a plain world map\n",
    "map_berlin_distr = folium.Map(location=[52.5200, 13.4050], zoom_start=10)\n",
    "\n",
    "\n",
    "folium.GeoJson(\n",
    "    distr_json,\n",
    "    name='geojson'\n",
    "    ).add_to(map_berlin_distr)\n",
    "\n",
    "map_berlin_distr"
   ]
  },
  {
   "cell_type": "code",
   "execution_count": 75,
   "metadata": {},
   "outputs": [],
   "source": [
    "address = 'Berlin Germany'\n",
    "geolocator = Nominatim(user_agent=\"foursquare_agent\")\n",
    "location = geolocator.geocode(address)\n",
    "berlin = [location.longitude, location.latitude]"
   ]
  },
  {
   "cell_type": "markdown",
   "metadata": {},
   "source": [
    "#### Create pyproj transformer objects for converting between UTM and Lat/Lon ####"
   ]
  },
  {
   "cell_type": "code",
   "execution_count": 77,
   "metadata": {},
   "outputs": [
    {
     "name": "stdout",
     "output_type": "stream",
     "text": [
      "Berlin center coordinate, Lon= 13.3888599; Lat= 52.5170365\n",
      "Berlin center transform to UTM, X= 390676.87103088724; Y= 5819766.874314442\n",
      "Berlin center reverse transform, Lon= 13.3888599; Lat= 52.51703649999999\n"
     ]
    }
   ],
   "source": [
    "#creating transformer objects\n",
    "transform2xy = pyproj.Transformer.from_crs(\"+proj=latlong +ellps=WGS84\" , \"+proj=utm +zone=33 +ellps=WGS84\")\n",
    "transform2coord = pyproj.Transformer.from_crs(\"+proj=utm +zone=33 +ellps=WGS84\" , \"+proj=latlong +ellps=WGS84\")\n",
    "\n",
    "#applying transformer objects of the transform method on Berlin coordinates\n",
    "x, y = transform2xy.transform(berlin[0], berlin[1])\n",
    "lon, lat = transform2coord.transform(x,y)\n",
    "print('Berlin center coordinate, Lon= {}; Lat= {}'.format(berlin[0], berlin[1]))\n",
    "print('Berlin center transform to UTM, X= {}; Y= {}'.format(x,y))\n",
    "print('Berlin center reverse transform, Lon= {}; Lat= {}'.format(lon, lat))"
   ]
  },
  {
   "cell_type": "markdown",
   "metadata": {},
   "source": [
    "Alternatively, a single Pyproj projector object can be used, inverted from xy to latlong using argument 'inverse=True'"
   ]
  },
  {
   "cell_type": "code",
   "execution_count": 78,
   "metadata": {},
   "outputs": [
    {
     "name": "stdout",
     "output_type": "stream",
     "text": [
      "Berlin center coordinate, Lon= 13.3888599; Lat= 52.5170365\n",
      "Berlin center transform to UTM, X= 390676.87103088724; Y= 5819766.874314442\n",
      "Berlin center reverse transform, Lon= 13.3888599; Lat= 52.51703649999999\n"
     ]
    }
   ],
   "source": [
    "proj2xy = pyproj.Proj(proj='utm',zone=33,ellps='WGS84', always_xy=False)\n",
    "\n",
    "x, y = proj2xy(berlin[0], berlin[1])\n",
    "lon, lat = proj2xy(x,y, inverse=True)\n",
    "print('Berlin center coordinate, Lon= {}; Lat= {}'.format(berlin[0], berlin[1]))\n",
    "print('Berlin center transform to UTM, X= {}; Y= {}'.format(x,y))\n",
    "print('Berlin center reverse transform, Lon= {}; Lat= {}'.format(lon, lat))"
   ]
  },
  {
   "cell_type": "code",
   "execution_count": 80,
   "metadata": {},
   "outputs": [
    {
     "name": "stdout",
     "output_type": "stream",
     "text": [
      "Berlin center coordinate, Lon= 13.3888599; Lat= 52.5170365\n",
      "Berlin center transform to UTM, X= 390676.87103088724; Y= 5819766.874314442\n",
      "Berlin center reverse transform, Lon= 13.3888599; Lat= 52.51703649999999\n"
     ]
    }
   ],
   "source": [
    "proj2xyepsg = pyproj.Proj(\"epsg:32633\", preserve_units=False)\n",
    "x, y = proj2xyepsg(berlin[0], berlin[1])\n",
    "lon, lat = proj2xyepsg(x,y, inverse=True)\n",
    "print('Berlin center coordinate, Lon= {}; Lat= {}'.format(berlin[0], berlin[1]))\n",
    "print('Berlin center transform to UTM, X= {}; Y= {}'.format(x,y))\n",
    "print('Berlin center reverse transform, Lon= {}; Lat= {}'.format(lon, lat))"
   ]
  },
  {
   "cell_type": "code",
   "execution_count": null,
   "metadata": {},
   "outputs": [],
   "source": []
  },
  {
   "cell_type": "markdown",
   "metadata": {},
   "source": [
    "**NOTE ON TRANSFORMER OBJECTS:** The transformer objects above have been updated to meet current pyproj conventionn (pyproj2 format still in use for pyproj3) based on TobGerken's Pulse of Berlin project, which used the now deprecated procedure from pyproj1.  The deprecated pyproj1 procedure, involving creation of definitions combining pyproj Proj and pyproj transform to convert between two CRSs, is shown below:"
   ]
  },
  {
   "cell_type": "code",
   "execution_count": 38,
   "metadata": {},
   "outputs": [
    {
     "name": "stdout",
     "output_type": "stream",
     "text": [
      "Berlin center coordinate, Lon= 13.3888599; Lat= 52.5170365\n",
      "Berlin center transform to UTM, X= 390676.87103088724; Y= 5819766.874314442\n",
      "Berlin center reverse transform, Lon= 13.3888599; Lat= 52.51703649999999\n"
     ]
    },
    {
     "name": "stderr",
     "output_type": "stream",
     "text": [
      "<ipython-input-38-f3dc1265c7d7>:4: DeprecationWarning: This function is deprecated. See: https://pyproj4.github.io/pyproj/stable/gotchas.html#upgrading-to-pyproj-2-from-pyproj-1\n",
      "  xy = pyproj.transform(proj_coord, proj_xy, lon,lat)\n",
      "<ipython-input-38-f3dc1265c7d7>:10: DeprecationWarning: This function is deprecated. See: https://pyproj4.github.io/pyproj/stable/gotchas.html#upgrading-to-pyproj-2-from-pyproj-1\n",
      "  coord = pyproj.transform(proj_xy, proj_coord, x, y)\n"
     ]
    }
   ],
   "source": [
    "# def lonlat2xy(lat,lon):\n",
    "#    proj_coord = pyproj.Proj(proj='latlong',datum='WGS84')\n",
    "#    proj_xy = pyproj.Proj(proj=\"utm\", zone=33, datum='WGS84')\n",
    "#    xy = pyproj.transform(proj_coord, proj_xy, lon,lat)\n",
    "#    return xy[0], xy[1]\n",
    "    \n",
    "# def xy2lonlat(x,y):\n",
    "#    proj_coord = pyproj.Proj(proj='latlong',datum='WGS84')\n",
    "#    proj_xy = pyproj.Proj(proj=\"utm\", zone=33, datum='WGS84')\n",
    "#    coord = pyproj.transform(proj_xy, proj_coord, x, y)\n",
    "#    return coord[0], coord[1]\n",
    "\n",
    "# #apply transformer definitions on Berlin coordinates\n",
    "# x, y = lonlat2xy(berlin[0], berlin[1])\n",
    "# lon, lat = xy2lonlat(x,y)\n",
    "# print('Berlin center coordinate, Lon= {}; Lat= {}'.format(berlin[1], berlin[0]))\n",
    "# print('Berlin center transform to UTM, X= {}; Y= {}'.format(x,y))\n",
    "# print('Berlin center reverse transform, Lon= {}; Lat= {}'.format(lon, lat))"
   ]
  },
  {
   "cell_type": "code",
   "execution_count": 8,
   "metadata": {},
   "outputs": [],
   "source": [
    "distr_gdf = gpd.read_file(urldistr)\n",
    "distr_gdf = distr_gdf[['Gemeinde_name', 'Land_name','geometry']]\n",
    "distr_gdf = distr_gdf.rename(columns={'Gemeinde_name':'District Name', 'Land_name':'State Name'})"
   ]
  },
  {
   "cell_type": "code",
   "execution_count": 10,
   "metadata": {},
   "outputs": [
    {
     "data": {
      "text/plain": [
       "<Geographic 2D CRS: EPSG:4326>\n",
       "Name: WGS 84\n",
       "Axis Info [ellipsoidal]:\n",
       "- Lat[north]: Geodetic latitude (degree)\n",
       "- Lon[east]: Geodetic longitude (degree)\n",
       "Area of Use:\n",
       "- name: World.\n",
       "- bounds: (-180.0, -90.0, 180.0, 90.0)\n",
       "Datum: World Geodetic System 1984\n",
       "- Ellipsoid: WGS 84\n",
       "- Prime Meridian: Greenwich"
      ]
     },
     "execution_count": 10,
     "metadata": {},
     "output_type": "execute_result"
    }
   ],
   "source": [
    "distr_gdf.crs"
   ]
  },
  {
   "cell_type": "code",
   "execution_count": 56,
   "metadata": {},
   "outputs": [],
   "source": [
    "distr_gdf = distr_gdf.set_crs(epsg=4326, allow_override=True)"
   ]
  },
  {
   "cell_type": "code",
   "execution_count": 57,
   "metadata": {},
   "outputs": [
    {
     "data": {
      "text/plain": [
       "<Geographic 2D CRS: EPSG:4326>\n",
       "Name: WGS 84\n",
       "Axis Info [ellipsoidal]:\n",
       "- Lat[north]: Geodetic latitude (degree)\n",
       "- Lon[east]: Geodetic longitude (degree)\n",
       "Area of Use:\n",
       "- name: World.\n",
       "- bounds: (-180.0, -90.0, 180.0, 90.0)\n",
       "Datum: World Geodetic System 1984\n",
       "- Ellipsoid: WGS 84\n",
       "- Prime Meridian: Greenwich"
      ]
     },
     "execution_count": 57,
     "metadata": {},
     "output_type": "execute_result"
    }
   ],
   "source": [
    "distr_gdf.crs"
   ]
  },
  {
   "cell_type": "code",
   "execution_count": 58,
   "metadata": {},
   "outputs": [],
   "source": [
    "berlin_polyg = distr_gdf.dissolve(by='State Name')"
   ]
  },
  {
   "cell_type": "code",
   "execution_count": 59,
   "metadata": {},
   "outputs": [
    {
     "data": {
      "text/plain": [
       "<AxesSubplot:>"
      ]
     },
     "execution_count": 59,
     "metadata": {},
     "output_type": "execute_result"
    },
    {
     "data": {
      "image/png": "[encoded data removed]",
      "text/plain": [
       "<Figure size 720x720 with 1 Axes>"
      ]
     },
     "metadata": {
      "needs_background": "light"
     },
     "output_type": "display_data"
    }
   ],
   "source": [
    "berlin_polyg.plot(figsize=(10,10))"
   ]
  },
  {
   "cell_type": "code",
   "execution_count": 60,
   "metadata": {},
   "outputs": [
    {
     "data": {
      "text/plain": [
       "<Geographic 2D CRS: EPSG:4326>\n",
       "Name: WGS 84\n",
       "Axis Info [ellipsoidal]:\n",
       "- Lat[north]: Geodetic latitude (degree)\n",
       "- Lon[east]: Geodetic longitude (degree)\n",
       "Area of Use:\n",
       "- name: World.\n",
       "- bounds: (-180.0, -90.0, 180.0, 90.0)\n",
       "Datum: World Geodetic System 1984\n",
       "- Ellipsoid: WGS 84\n",
       "- Prime Meridian: Greenwich"
      ]
     },
     "execution_count": 60,
     "metadata": {},
     "output_type": "execute_result"
    }
   ],
   "source": [
    "berlin_polyg.crs"
   ]
  },
  {
   "cell_type": "code",
   "execution_count": 61,
   "metadata": {},
   "outputs": [
    {
     "data": {
      "text/plain": [
       "State Name\n",
       "Berlin    POINT (391558.603 5818017.217)\n",
       "dtype: geometry"
      ]
     },
     "execution_count": 61,
     "metadata": {},
     "output_type": "execute_result"
    }
   ],
   "source": [
    "berlin_polyg_utm = berlin_polyg.to_crs(epsg=32633)\n",
    "berlin_cent = berlin_polyg_utm.centroid\n",
    "berlin_cent"
   ]
  },
  {
   "cell_type": "code",
   "execution_count": 62,
   "metadata": {},
   "outputs": [
    {
     "data": {
      "text/plain": [
       "<Projected CRS: EPSG:32633>\n",
       "Name: WGS 84 / UTM zone 33N\n",
       "Axis Info [cartesian]:\n",
       "- E[east]: Easting (metre)\n",
       "- N[north]: Northing (metre)\n",
       "Area of Use:\n",
       "- name: Between 12°E and 18°E, northern hemisphere between equator and 84°N, onshore and offshore. Austria. Bosnia and Herzegovina. Cameroon. Central African Republic. Chad. Congo. Croatia. Czechia. Democratic Republic of the Congo (Zaire). Gabon. Germany. Hungary. Italy. Libya. Malta. Niger. Nigeria. Norway. Poland. San Marino. Slovakia. Slovenia. Svalbard. Sweden. Vatican City State.\n",
       "- bounds: (12.0, 0.0, 18.0, 84.0)\n",
       "Coordinate Operation:\n",
       "- name: UTM zone 33N\n",
       "- method: Transverse Mercator\n",
       "Datum: World Geodetic System 1984\n",
       "- Ellipsoid: WGS 84\n",
       "- Prime Meridian: Greenwich"
      ]
     },
     "execution_count": 62,
     "metadata": {},
     "output_type": "execute_result"
    }
   ],
   "source": [
    "berlin_polyg_utm.crs"
   ]
  },
  {
   "cell_type": "code",
   "execution_count": 63,
   "metadata": {},
   "outputs": [
    {
     "data": {
      "text/plain": [
       "State Name\n",
       "Berlin    POINT (13.39743 52.50688)\n",
       "dtype: geometry"
      ]
     },
     "execution_count": 63,
     "metadata": {},
     "output_type": "execute_result"
    }
   ],
   "source": [
    "berlin_rep1 = berlin_polyg.representative_point()\n",
    "berlin_rep1"
   ]
  },
  {
   "cell_type": "code",
   "execution_count": 64,
   "metadata": {},
   "outputs": [
    {
     "data": {
      "text/plain": [
       "State Name\n",
       "Berlin    POINT (391233.098 5818624.718)\n",
       "dtype: geometry"
      ]
     },
     "execution_count": 64,
     "metadata": {},
     "output_type": "execute_result"
    }
   ],
   "source": [
    "berlin_rep1 = berlin_rep1.to_crs(epsg=32633)\n",
    "berlin_rep1"
   ]
  },
  {
   "cell_type": "code",
   "execution_count": 65,
   "metadata": {},
   "outputs": [
    {
     "data": {
      "text/plain": [
       "State Name\n",
       "Berlin    POINT (390953.935 5818384.302)\n",
       "dtype: geometry"
      ]
     },
     "execution_count": 65,
     "metadata": {},
     "output_type": "execute_result"
    }
   ],
   "source": [
    "berlin_rep = berlin_polyg_utm.representative_point()\n",
    "berlin_rep"
   ]
  },
  {
   "cell_type": "code",
   "execution_count": 66,
   "metadata": {},
   "outputs": [
    {
     "data": {
      "text/plain": [
       "<AxesSubplot:>"
      ]
     },
     "execution_count": 66,
     "metadata": {},
     "output_type": "execute_result"
    },
    {
     "data": {
      "image/png": "[encoded data removed]",
      "text/plain": [
       "<Figure size 720x720 with 1 Axes>"
      ]
     },
     "metadata": {
      "needs_background": "light"
     },
     "output_type": "display_data"
    }
   ],
   "source": [
    "ax = berlin_cent.plot(figsize=(10,10), color='k', zorder=2)\n",
    "berlin_polyg_utm.plot(ax=ax, figsize=(10,10), zorder=1)"
   ]
  },
  {
   "cell_type": "code",
   "execution_count": 67,
   "metadata": {},
   "outputs": [
    {
     "data": {
      "text/plain": [
       "<AxesSubplot:>"
      ]
     },
     "execution_count": 67,
     "metadata": {},
     "output_type": "execute_result"
    },
    {
     "data": {
      "image/png": "[encoded data removed]",
      "text/plain": [
       "<Figure size 720x720 with 1 Axes>"
      ]
     },
     "metadata": {
      "needs_background": "light"
     },
     "output_type": "display_data"
    }
   ],
   "source": [
    "ax = berlin_rep.plot(figsize=(10,10), color='k', zorder=2)\n",
    "berlin_polyg_utm.plot(ax=ax, figsize=(10,10), zorder=1)"
   ]
  },
  {
   "cell_type": "markdown",
   "metadata": {},
   "source": [
    "#### Determining the Appropriate Size of the Sampling Grid ####\n",
    "To do this we need to know the maximum and minimum X and Y values to get an undatstanding of Berlin's \"bounds.\" The code below compiles the miminmum and maximum longitude and latitude values for each district into a dataframe, along with the conversion of these points into UTM X and Y values. This dataframe is then used to find the minimum and maximum X and Y values of Berlin's state boundaries."
   ]
  },
  {
   "cell_type": "code",
   "execution_count": 13,
   "metadata": {},
   "outputs": [],
   "source": [
    "minlats = []\n",
    "maxlats = []\n",
    "minlons = []\n",
    "maxlons = []\n",
    "minxs = []\n",
    "maxxs = []\n",
    "minys = []\n",
    "maxys = []\n",
    "name = []\n",
    "\n",
    "for feature in distr_json['features']:\n",
    "        name.append(feature['properties']['Gemeinde_name'])\n",
    "        polygon = shape(feature['geometry'])\n",
    "        minlons.append(polygon.bounds[0])\n",
    "        maxlons.append(polygon.bounds[2])\n",
    "        minlats.append(polygon.bounds[1])\n",
    "        maxlats.append(polygon.bounds[3]) \n",
    "        \n",
    "        minx, miny = proj2xy(polygon.bounds[0], polygon.bounds[1])\n",
    "        maxx, maxy = proj2xy(polygon.bounds[2], polygon.bounds[3])\n",
    "        minxs.append(minx)\n",
    "        maxxs.append(maxx)\n",
    "        minys.append(miny)\n",
    "        maxys.append(maxy)\n",
    "\n",
    "districts_minmax= pd.DataFrame(data={'District':name, 'Minimum Longitude':minlons, 'Maximum Longitude':maxlons, 'Minimum Latitude':minlats, 'Maximum Latitude':maxlats, \n",
    "                              'Minimum X':minxs, 'Maximum X':maxxs, 'Minimum Y':minys, 'Maximum Y':maxys})\n",
    "districts_minmax.sort_values(['District'], ascending=True, axis=0, inplace=True)\n",
    "districts_minmax.reset_index(drop=True, inplace=True)"
   ]
  },
  {
   "cell_type": "code",
   "execution_count": 14,
   "metadata": {},
   "outputs": [
    {
     "name": "stdout",
     "output_type": "stream",
     "text": [
      "4845596.6127127055 1821467.252233814\n"
     ]
    }
   ],
   "source": [
    "x, y = proj2xy(districts_minmax.iloc[0,3], districts_minmax.iloc[0,1])\n",
    "print(x, y)"
   ]
  },
  {
   "cell_type": "code",
   "execution_count": 15,
   "metadata": {},
   "outputs": [
    {
     "data": {
      "text/html": [
       "<div>\n",
       "<style scoped>\n",
       "    .dataframe tbody tr th:only-of-type {\n",
       "        vertical-align: middle;\n",
       "    }\n",
       "\n",
       "    .dataframe tbody tr th {\n",
       "        vertical-align: top;\n",
       "    }\n",
       "\n",
       "    .dataframe thead th {\n",
       "        text-align: right;\n",
       "    }\n",
       "</style>\n",
       "<table border=\"1\" class=\"dataframe\">\n",
       "  <thead>\n",
       "    <tr style=\"text-align: right;\">\n",
       "      <th></th>\n",
       "      <th>District</th>\n",
       "      <th>Minimum Longitude</th>\n",
       "      <th>Maximum Longitude</th>\n",
       "      <th>Minimum Latitude</th>\n",
       "      <th>Maximum Latitude</th>\n",
       "      <th>Minimum X</th>\n",
       "      <th>Maximum X</th>\n",
       "      <th>Minimum Y</th>\n",
       "      <th>Maximum Y</th>\n",
       "    </tr>\n",
       "  </thead>\n",
       "  <tbody>\n",
       "    <tr>\n",
       "      <th>0</th>\n",
       "      <td>Charlottenburg-Wilmersdorf</td>\n",
       "      <td>13.186597</td>\n",
       "      <td>13.341421</td>\n",
       "      <td>52.466499</td>\n",
       "      <td>52.549429</td>\n",
       "      <td>376812.366659</td>\n",
       "      <td>387540.957786</td>\n",
       "      <td>5.814472e+06</td>\n",
       "      <td>5.823442e+06</td>\n",
       "    </tr>\n",
       "    <tr>\n",
       "      <th>1</th>\n",
       "      <td>Friedrichshain-Kreuzberg</td>\n",
       "      <td>13.368215</td>\n",
       "      <td>13.491454</td>\n",
       "      <td>52.482770</td>\n",
       "      <td>52.531026</td>\n",
       "      <td>389190.005677</td>\n",
       "      <td>397670.398807</td>\n",
       "      <td>5.815987e+06</td>\n",
       "      <td>5.821172e+06</td>\n",
       "    </tr>\n",
       "    <tr>\n",
       "      <th>2</th>\n",
       "      <td>Lichtenberg</td>\n",
       "      <td>13.456196</td>\n",
       "      <td>13.567705</td>\n",
       "      <td>52.467938</td>\n",
       "      <td>52.596463</td>\n",
       "      <td>395128.920188</td>\n",
       "      <td>402986.980518</td>\n",
       "      <td>5.814206e+06</td>\n",
       "      <td>5.828345e+06</td>\n",
       "    </tr>\n",
       "    <tr>\n",
       "      <th>3</th>\n",
       "      <td>Marzahn-Hellersdorf</td>\n",
       "      <td>13.516884</td>\n",
       "      <td>13.658502</td>\n",
       "      <td>52.470477</td>\n",
       "      <td>52.574509</td>\n",
       "      <td>399256.983174</td>\n",
       "      <td>409091.156981</td>\n",
       "      <td>5.814402e+06</td>\n",
       "      <td>5.825785e+06</td>\n",
       "    </tr>\n",
       "    <tr>\n",
       "      <th>4</th>\n",
       "      <td>Mitte</td>\n",
       "      <td>13.301530</td>\n",
       "      <td>13.429402</td>\n",
       "      <td>52.498737</td>\n",
       "      <td>52.567736</td>\n",
       "      <td>384703.726089</td>\n",
       "      <td>393550.405649</td>\n",
       "      <td>5.817867e+06</td>\n",
       "      <td>5.825345e+06</td>\n",
       "    </tr>\n",
       "    <tr>\n",
       "      <th>5</th>\n",
       "      <td>Neukölln</td>\n",
       "      <td>13.399497</td>\n",
       "      <td>13.524063</td>\n",
       "      <td>52.395946</td>\n",
       "      <td>52.495864</td>\n",
       "      <td>391100.239521</td>\n",
       "      <td>399802.342348</td>\n",
       "      <td>5.806283e+06</td>\n",
       "      <td>5.817216e+06</td>\n",
       "    </tr>\n",
       "    <tr>\n",
       "      <th>6</th>\n",
       "      <td>Pankow</td>\n",
       "      <td>13.347557</td>\n",
       "      <td>13.523022</td>\n",
       "      <td>52.519928</td>\n",
       "      <td>52.675508</td>\n",
       "      <td>387881.850838</td>\n",
       "      <td>400140.842654</td>\n",
       "      <td>5.820152e+06</td>\n",
       "      <td>5.837198e+06</td>\n",
       "    </tr>\n",
       "    <tr>\n",
       "      <th>7</th>\n",
       "      <td>Reinickendorf</td>\n",
       "      <td>13.201616</td>\n",
       "      <td>13.389282</td>\n",
       "      <td>52.548806</td>\n",
       "      <td>52.660739</td>\n",
       "      <td>378060.589758</td>\n",
       "      <td>391062.472752</td>\n",
       "      <td>5.823600e+06</td>\n",
       "      <td>5.835749e+06</td>\n",
       "    </tr>\n",
       "    <tr>\n",
       "      <th>8</th>\n",
       "      <td>Spandau</td>\n",
       "      <td>13.109296</td>\n",
       "      <td>13.282182</td>\n",
       "      <td>52.439615</td>\n",
       "      <td>52.598795</td>\n",
       "      <td>371483.432467</td>\n",
       "      <td>383655.390836</td>\n",
       "      <td>5.811616e+06</td>\n",
       "      <td>5.829027e+06</td>\n",
       "    </tr>\n",
       "    <tr>\n",
       "      <th>9</th>\n",
       "      <td>Steglitz-Zehlendorf</td>\n",
       "      <td>13.088348</td>\n",
       "      <td>13.371595</td>\n",
       "      <td>52.387225</td>\n",
       "      <td>52.471837</td>\n",
       "      <td>369905.516331</td>\n",
       "      <td>389392.105008</td>\n",
       "      <td>5.805827e+06</td>\n",
       "      <td>5.814766e+06</td>\n",
       "    </tr>\n",
       "    <tr>\n",
       "      <th>10</th>\n",
       "      <td>Tempelhof-Schöneberg</td>\n",
       "      <td>13.319983</td>\n",
       "      <td>13.427457</td>\n",
       "      <td>52.376140</td>\n",
       "      <td>52.504941</td>\n",
       "      <td>385639.220130</td>\n",
       "      <td>393266.361533</td>\n",
       "      <td>5.804203e+06</td>\n",
       "      <td>5.818364e+06</td>\n",
       "    </tr>\n",
       "    <tr>\n",
       "      <th>11</th>\n",
       "      <td>Treptow-Köpenick</td>\n",
       "      <td>13.439657</td>\n",
       "      <td>13.761159</td>\n",
       "      <td>52.338246</td>\n",
       "      <td>52.497577</td>\n",
       "      <td>393694.152208</td>\n",
       "      <td>415900.747463</td>\n",
       "      <td>5.799806e+06</td>\n",
       "      <td>5.817104e+06</td>\n",
       "    </tr>\n",
       "  </tbody>\n",
       "</table>\n",
       "</div>"
      ],
      "text/plain": [
       "                      District  Minimum Longitude  Maximum Longitude  \\\n",
       "0   Charlottenburg-Wilmersdorf          13.186597          13.341421   \n",
       "1     Friedrichshain-Kreuzberg          13.368215          13.491454   \n",
       "2                  Lichtenberg          13.456196          13.567705   \n",
       "3          Marzahn-Hellersdorf          13.516884          13.658502   \n",
       "4                        Mitte          13.301530          13.429402   \n",
       "5                     Neukölln          13.399497          13.524063   \n",
       "6                       Pankow          13.347557          13.523022   \n",
       "7                Reinickendorf          13.201616          13.389282   \n",
       "8                      Spandau          13.109296          13.282182   \n",
       "9          Steglitz-Zehlendorf          13.088348          13.371595   \n",
       "10        Tempelhof-Schöneberg          13.319983          13.427457   \n",
       "11            Treptow-Köpenick          13.439657          13.761159   \n",
       "\n",
       "    Minimum Latitude  Maximum Latitude      Minimum X      Maximum X  \\\n",
       "0          52.466499         52.549429  376812.366659  387540.957786   \n",
       "1          52.482770         52.531026  389190.005677  397670.398807   \n",
       "2          52.467938         52.596463  395128.920188  402986.980518   \n",
       "3          52.470477         52.574509  399256.983174  409091.156981   \n",
       "4          52.498737         52.567736  384703.726089  393550.405649   \n",
       "5          52.395946         52.495864  391100.239521  399802.342348   \n",
       "6          52.519928         52.675508  387881.850838  400140.842654   \n",
       "7          52.548806         52.660739  378060.589758  391062.472752   \n",
       "8          52.439615         52.598795  371483.432467  383655.390836   \n",
       "9          52.387225         52.471837  369905.516331  389392.105008   \n",
       "10         52.376140         52.504941  385639.220130  393266.361533   \n",
       "11         52.338246         52.497577  393694.152208  415900.747463   \n",
       "\n",
       "       Minimum Y     Maximum Y  \n",
       "0   5.814472e+06  5.823442e+06  \n",
       "1   5.815987e+06  5.821172e+06  \n",
       "2   5.814206e+06  5.828345e+06  \n",
       "3   5.814402e+06  5.825785e+06  \n",
       "4   5.817867e+06  5.825345e+06  \n",
       "5   5.806283e+06  5.817216e+06  \n",
       "6   5.820152e+06  5.837198e+06  \n",
       "7   5.823600e+06  5.835749e+06  \n",
       "8   5.811616e+06  5.829027e+06  \n",
       "9   5.805827e+06  5.814766e+06  \n",
       "10  5.804203e+06  5.818364e+06  \n",
       "11  5.799806e+06  5.817104e+06  "
      ]
     },
     "execution_count": 15,
     "metadata": {},
     "output_type": "execute_result"
    }
   ],
   "source": [
    "districts_minmax"
   ]
  },
  {
   "cell_type": "code",
   "execution_count": 16,
   "metadata": {},
   "outputs": [
    {
     "data": {
      "text/html": [
       "<div>\n",
       "<style scoped>\n",
       "    .dataframe tbody tr th:only-of-type {\n",
       "        vertical-align: middle;\n",
       "    }\n",
       "\n",
       "    .dataframe tbody tr th {\n",
       "        vertical-align: top;\n",
       "    }\n",
       "\n",
       "    .dataframe thead th {\n",
       "        text-align: right;\n",
       "    }\n",
       "</style>\n",
       "<table border=\"1\" class=\"dataframe\">\n",
       "  <thead>\n",
       "    <tr style=\"text-align: right;\">\n",
       "      <th></th>\n",
       "      <th>Minimum Longitude</th>\n",
       "      <th>Maximum Longitude</th>\n",
       "      <th>Minimum Latitude</th>\n",
       "      <th>Maximum Latitude</th>\n",
       "      <th>Minimum X</th>\n",
       "      <th>Maximum X</th>\n",
       "      <th>Minimum Y</th>\n",
       "      <th>Maximum Y</th>\n",
       "    </tr>\n",
       "  </thead>\n",
       "  <tbody>\n",
       "    <tr>\n",
       "      <th>count</th>\n",
       "      <td>12.000000</td>\n",
       "      <td>12.000000</td>\n",
       "      <td>12.000000</td>\n",
       "      <td>12.000000</td>\n",
       "      <td>12.000000</td>\n",
       "      <td>12.000000</td>\n",
       "      <td>1.200000e+01</td>\n",
       "      <td>1.200000e+01</td>\n",
       "    </tr>\n",
       "    <tr>\n",
       "      <th>mean</th>\n",
       "      <td>13.311281</td>\n",
       "      <td>13.480604</td>\n",
       "      <td>52.449361</td>\n",
       "      <td>52.560369</td>\n",
       "      <td>385238.083587</td>\n",
       "      <td>397005.013528</td>\n",
       "      <td>5.812369e+06</td>\n",
       "      <td>5.824460e+06</td>\n",
       "    </tr>\n",
       "    <tr>\n",
       "      <th>std</th>\n",
       "      <td>0.138280</td>\n",
       "      <td>0.136902</td>\n",
       "      <td>0.063263</td>\n",
       "      <td>0.064919</td>\n",
       "      <td>9390.851324</td>\n",
       "      <td>9263.670696</td>\n",
       "      <td>7.050977e+03</td>\n",
       "      <td>7.247354e+03</td>\n",
       "    </tr>\n",
       "    <tr>\n",
       "      <th>min</th>\n",
       "      <td>13.088348</td>\n",
       "      <td>13.282182</td>\n",
       "      <td>52.338246</td>\n",
       "      <td>52.471837</td>\n",
       "      <td>369905.516331</td>\n",
       "      <td>383655.390836</td>\n",
       "      <td>5.799806e+06</td>\n",
       "      <td>5.814766e+06</td>\n",
       "    </tr>\n",
       "    <tr>\n",
       "      <th>25%</th>\n",
       "      <td>13.197861</td>\n",
       "      <td>13.384860</td>\n",
       "      <td>52.393766</td>\n",
       "      <td>52.503100</td>\n",
       "      <td>377748.533984</td>\n",
       "      <td>390644.880816</td>\n",
       "      <td>5.806169e+06</td>\n",
       "      <td>5.818077e+06</td>\n",
       "    </tr>\n",
       "    <tr>\n",
       "      <th>50%</th>\n",
       "      <td>13.333770</td>\n",
       "      <td>13.460428</td>\n",
       "      <td>52.467218</td>\n",
       "      <td>52.558582</td>\n",
       "      <td>386760.535484</td>\n",
       "      <td>395610.402228</td>\n",
       "      <td>5.814304e+06</td>\n",
       "      <td>5.824394e+06</td>\n",
       "    </tr>\n",
       "    <tr>\n",
       "      <th>75%</th>\n",
       "      <td>13.409537</td>\n",
       "      <td>13.534974</td>\n",
       "      <td>52.486762</td>\n",
       "      <td>52.597046</td>\n",
       "      <td>391748.717693</td>\n",
       "      <td>400852.377120</td>\n",
       "      <td>5.816457e+06</td>\n",
       "      <td>5.828516e+06</td>\n",
       "    </tr>\n",
       "    <tr>\n",
       "      <th>max</th>\n",
       "      <td>13.516884</td>\n",
       "      <td>13.761159</td>\n",
       "      <td>52.548806</td>\n",
       "      <td>52.675508</td>\n",
       "      <td>399256.983174</td>\n",
       "      <td>415900.747463</td>\n",
       "      <td>5.823600e+06</td>\n",
       "      <td>5.837198e+06</td>\n",
       "    </tr>\n",
       "  </tbody>\n",
       "</table>\n",
       "</div>"
      ],
      "text/plain": [
       "       Minimum Longitude  Maximum Longitude  Minimum Latitude  \\\n",
       "count          12.000000          12.000000         12.000000   \n",
       "mean           13.311281          13.480604         52.449361   \n",
       "std             0.138280           0.136902          0.063263   \n",
       "min            13.088348          13.282182         52.338246   \n",
       "25%            13.197861          13.384860         52.393766   \n",
       "50%            13.333770          13.460428         52.467218   \n",
       "75%            13.409537          13.534974         52.486762   \n",
       "max            13.516884          13.761159         52.548806   \n",
       "\n",
       "       Maximum Latitude      Minimum X      Maximum X     Minimum Y  \\\n",
       "count         12.000000      12.000000      12.000000  1.200000e+01   \n",
       "mean          52.560369  385238.083587  397005.013528  5.812369e+06   \n",
       "std            0.064919    9390.851324    9263.670696  7.050977e+03   \n",
       "min           52.471837  369905.516331  383655.390836  5.799806e+06   \n",
       "25%           52.503100  377748.533984  390644.880816  5.806169e+06   \n",
       "50%           52.558582  386760.535484  395610.402228  5.814304e+06   \n",
       "75%           52.597046  391748.717693  400852.377120  5.816457e+06   \n",
       "max           52.675508  399256.983174  415900.747463  5.823600e+06   \n",
       "\n",
       "          Maximum Y  \n",
       "count  1.200000e+01  \n",
       "mean   5.824460e+06  \n",
       "std    7.247354e+03  \n",
       "min    5.814766e+06  \n",
       "25%    5.818077e+06  \n",
       "50%    5.824394e+06  \n",
       "75%    5.828516e+06  \n",
       "max    5.837198e+06  "
      ]
     },
     "execution_count": 16,
     "metadata": {},
     "output_type": "execute_result"
    }
   ],
   "source": [
    "districts_minmax.describe()"
   ]
  },
  {
   "cell_type": "markdown",
   "metadata": {},
   "source": [
    "Once we have the boundaries, it is easy to find the length of X and Y ranges, which can be divided in half to get an radius, which helps us in setting a range for our sampling grid."
   ]
  },
  {
   "cell_type": "code",
   "execution_count": 17,
   "metadata": {},
   "outputs": [
    {
     "name": "stdout",
     "output_type": "stream",
     "text": [
      "The length of Berlin's X range is 45995.23113135662 meters and Y range is 37392.07668166794 meters.\n",
      "The length of Berlin's X radius is 22997.61556567831 meters and Y radius is 18696.03834083397 meters.\n"
     ]
    }
   ],
   "source": [
    "berlin_x_range = districts_minmax['Maximum X'].max() - districts_minmax['Minimum X'].min()\n",
    "berlin_y_range = districts_minmax['Maximum Y'].max() - districts_minmax['Minimum Y'].min()\n",
    "print(\"The length of Berlin's X range is {} meters and Y range is {} meters.\".format(\n",
    "    berlin_x_range, berlin_y_range))\n",
    "berlin_x_radius = berlin_x_range/2\n",
    "berlin_y_radius = berlin_y_range/2\n",
    "print(\"The length of Berlin's X radius is {} meters and Y radius is {} meters.\".format(\n",
    "    berlin_x_radius, berlin_y_radius))"
   ]
  },
  {
   "cell_type": "markdown",
   "metadata": {},
   "source": [
    "This is a rather complicated way to calculate the minimum and maximum points along the Berlin boundary, and subsequently the range lengths and radii for the X and Y axes.  Luckily, the dissolved (aggregated) polygon for the Berlin city limits above can be used to retrieve minimum and maximum values more easily.  Below we use shapely's bounds method to extract the minimum and maximum values for each axis.  This is done in both the UTM and lon/lat CRSs to show the consistency of these outputs, which are the same as the calculated values above."
   ]
  },
  {
   "cell_type": "code",
   "execution_count": 68,
   "metadata": {},
   "outputs": [
    {
     "data": {
      "text/plain": [
       "array([ 370000.82600134, 5799520.66212391,  415786.55400087,\n",
       "       5837259.27012398])"
      ]
     },
     "execution_count": 68,
     "metadata": {},
     "output_type": "execute_result"
    }
   ],
   "source": [
    "berlin_polyg_utm.total_bounds"
   ]
  },
  {
   "cell_type": "code",
   "execution_count": 69,
   "metadata": {},
   "outputs": [
    {
     "data": {
      "text/plain": [
       "370000.82600134326"
      ]
     },
     "execution_count": 69,
     "metadata": {},
     "output_type": "execute_result"
    }
   ],
   "source": [
    "berlin_polyg_utm.total_bounds[0]"
   ]
  },
  {
   "cell_type": "code",
   "execution_count": 70,
   "metadata": {},
   "outputs": [
    {
     "name": "stdout",
     "output_type": "stream",
     "text": [
      "Min X = 370000.82600134326\n",
      "Max X = 415786.55400086974\n",
      "Min Y = 5799520.662123909\n",
      "Max Y = 5837259.270123978\n",
      "The length of Berlin's X range is 45785.72799952648 meters and Y range is 37738.608000068925 meters.\n",
      "The length of Berlin's X radius is 22892.86399976324 meters and Y radius is 18869.304000034463 meters.\n"
     ]
    }
   ],
   "source": [
    "minx = berlin_polyg_utm.bounds.iloc[0,0]\n",
    "maxx = berlin_polyg_utm.bounds.iloc[0,2]\n",
    "miny = berlin_polyg_utm.bounds.iloc[0,1]\n",
    "maxy = berlin_polyg_utm.bounds.iloc[0,3]\n",
    "print(\"Min X = {}\\nMax X = {}\\nMin Y = {}\\nMax Y = {}\".format(minx ,maxx ,miny, maxy))\n",
    "berlin_x_range = maxx - minx\n",
    "berlin_y_range = maxy - miny\n",
    "print(\"The length of Berlin's X range is {} meters and Y range is {} meters.\".format(\n",
    "    berlin_x_range, berlin_y_range))\n",
    "berlin_x_radius = berlin_x_range/2\n",
    "berlin_y_radius = berlin_y_range/2\n",
    "print(\"The length of Berlin's X radius is {} meters and Y radius is {} meters.\".format(\n",
    "    berlin_x_radius, berlin_y_radius))"
   ]
  },
  {
   "cell_type": "code",
   "execution_count": 71,
   "metadata": {},
   "outputs": [
    {
     "name": "stdout",
     "output_type": "stream",
     "text": [
      "416240.67868526874 5836894.550149376\n"
     ]
    }
   ],
   "source": [
    "bounds = berlin_polyg.total_bounds\n",
    "expmaxx, expmaxy = proj2xyepsg(bounds[2],bounds[3])\n",
    "print(expmaxx, expmaxy)"
   ]
  },
  {
   "cell_type": "code",
   "execution_count": 72,
   "metadata": {},
   "outputs": [
    {
     "name": "stdout",
     "output_type": "stream",
     "text": [
      "Min Lon = 13.088347614730992\n",
      "Max Lon = 13.761159145035254\n",
      "Min Lat = 52.338245549997296\n",
      "Max Lat = 52.67550765972353\n",
      "The length of Berlin's X range is 0.6728115303042621 decimal degrees and Y range is 0.3372621097262325 \n",
      "decimal degrees.\n",
      "The length of Berlin's X radius is 0.33640576515213105 decimal degrees and Y radius is 0.16863105486311625 decimal degrees.\n"
     ]
    }
   ],
   "source": [
    "minlon = berlin_polyg.total_bounds[0]\n",
    "maxlon = berlin_polyg.total_bounds[2]\n",
    "minlat = berlin_polyg.total_bounds[1]\n",
    "maxlat = berlin_polyg.total_bounds[3]\n",
    "print(\"Min Lon = {}\\nMax Lon = {}\\nMin Lat = {}\\nMax Lat = {}\".format(minlon ,maxlon ,minlat, maxlat))\n",
    "berlin_x_range = maxlon - minlon\n",
    "berlin_y_range = maxlat - minlat\n",
    "print(\"The length of Berlin's X range is {} decimal degrees and Y range is {} \\ndecimal degrees.\".format(\n",
    "    berlin_x_range, berlin_y_range))\n",
    "berlin_x_radius = berlin_x_range/2\n",
    "berlin_y_radius = berlin_y_range/2\n",
    "print(\"The length of Berlin's X radius is {} decimal degrees and Y radius is {} decimal degrees.\".format(\n",
    "    berlin_x_radius, berlin_y_radius))"
   ]
  },
  {
   "cell_type": "code",
   "execution_count": 73,
   "metadata": {},
   "outputs": [
    {
     "name": "stdout",
     "output_type": "stream",
     "text": [
      "Min X = 369761.53985129925\n",
      "Max X = 416240.67868526874\n",
      "Min Y = 5800380.171821327\n",
      "Max Y = 5836894.550149376\n",
      "The length of Berlin's X range is 46479.13883396948 meters and Y range is 36514.378328048624 meters.\n",
      "The length of Berlin's X radius is 23239.56941698474 meters and Y radius is 18257.189164024312 meters.\n"
     ]
    }
   ],
   "source": [
    "minx, miny = proj2xyepsg(minlon, minlat) \n",
    "maxx, maxy = proj2xyepsg(maxlon, maxlat)\n",
    "print(\"Min X = {}\\nMax X = {}\\nMin Y = {}\\nMax Y = {}\".format(minx ,maxx ,miny, maxy))\n",
    "berlin_x_range = maxx - minx\n",
    "berlin_y_range = maxy - miny\n",
    "print(\"The length of Berlin's X range is {} meters and Y range is {} meters.\".format(\n",
    "    berlin_x_range, berlin_y_range))\n",
    "berlin_x_radius = berlin_x_range/2\n",
    "berlin_y_radius = berlin_y_range/2\n",
    "print(\"The length of Berlin's X radius is {} meters and Y radius is {} meters.\".format(\n",
    "    berlin_x_radius, berlin_y_radius))"
   ]
  },
  {
   "cell_type": "code",
   "execution_count": 74,
   "metadata": {},
   "outputs": [
    {
     "name": "stdout",
     "output_type": "stream",
     "text": [
      "Min X = 369761.53985129925\n",
      "Max X = 416240.67868526874\n",
      "Min Y = 5800380.171821327\n",
      "Max Y = 5836894.550149376\n",
      "The length of Berlin's X range is 46479.13883396948 meters and Y range is 36514.378328048624 meters.\n",
      "The length of Berlin's X radius is 23239.56941698474 meters and Y radius is 18257.189164024312 meters.\n"
     ]
    }
   ],
   "source": [
    "minx1, miny1 = proj2xy(minlon, minlat)\n",
    "maxx1, maxy1 = proj2xy(maxlon, maxlat)\n",
    "print(\"Min X = {}\\nMax X = {}\\nMin Y = {}\\nMax Y = {}\".format(minx1 ,maxx1 ,miny1, maxy1))\n",
    "berlin_x_range = maxx1 - minx1\n",
    "berlin_y_range = maxy1 - miny1\n",
    "print(\"The length of Berlin's X range is {} meters and Y range is {} meters.\".format(\n",
    "    berlin_x_range, berlin_y_range))\n",
    "berlin_x_radius = berlin_x_range/2\n",
    "berlin_y_radius = berlin_y_range/2\n",
    "print(\"The length of Berlin's X radius is {} meters and Y radius is {} meters.\".format(\n",
    "    berlin_x_radius, berlin_y_radius))"
   ]
  },
  {
   "cell_type": "markdown",
   "metadata": {},
   "source": [
    "The lengths, and more importantly the radii allows us to set up a fairly fine-tuned sampling grid to be used to make calls to the Foursquare API."
   ]
  },
  {
   "cell_type": "markdown",
   "metadata": {},
   "source": [
    "### Loop through selected polygons to create dataframe of representative points, and polygon area ###"
   ]
  },
  {
   "cell_type": "code",
   "execution_count": null,
   "metadata": {},
   "outputs": [],
   "source": [
    "urlplz = 'https://tsb-opendata.s3.eu-central-1.amazonaws.com/plz/plz.geojson'\n",
    "plz_json = requests.get(urlplz).json()"
   ]
  },
  {
   "cell_type": "code",
   "execution_count": null,
   "metadata": {},
   "outputs": [],
   "source": [
    "map_berlin_plz = folium.Map(location=[52.5200, 13.4050], zoom_start=10)\n",
    "\n",
    "\n",
    "folium.GeoJson(\n",
    "    plz_json,\n",
    "    name='geojson'\n",
    "    ).add_to(map_berlin_plz)\n",
    "\n",
    "map_berlin_plz"
   ]
  },
  {
   "cell_type": "code",
   "execution_count": null,
   "metadata": {},
   "outputs": [],
   "source": [
    "area = []\n",
    "lats = []\n",
    "lons = []\n",
    "name = []\n",
    "\n",
    "for feature in plz_json['features']:\n",
    "        name.append(feature['properties']['plz'])\n",
    "        polygon = shape(feature['geometry'])\n",
    "        p=polygon.representative_point()\n",
    "        lons.append(p.x)\n",
    "        lats.append(p.y)\n",
    "        \n",
    "        geom_aea = ops.transform(\n",
    "            pyproj.Proj(\n",
    "            proj='aea',\n",
    "            lat_1=polygon.bounds[1],\n",
    "            lat_2=polygon.bounds[3]),\n",
    "        polygon)\n",
    "        a = geom_aea.area/1000**2\n",
    "        area.append(a)             \n",
    "\n",
    "postal_codes= pd.DataFrame(data={'Postal Code':name, 'Latitude':lats, 'Longitude':lons, 'Area':area})\n",
    "postal_codes.sort_values(['Postal Code'], ascending=True, axis=0, inplace=True)\n",
    "postal_codes"
   ]
  },
  {
   "cell_type": "markdown",
   "metadata": {},
   "source": [
    "For some reason ZIP-14193 is duplicated from this process, although it is not duplicated within the geoJSON file itself, so we must drop the duplicate and reset the index as done below"
   ]
  },
  {
   "cell_type": "code",
   "execution_count": null,
   "metadata": {},
   "outputs": [],
   "source": [
    "postal_codes.drop_duplicates(inplace=True)\n",
    "postal_codes.reset_index(drop=True, inplace=True)\n",
    "# postal codes 15537 (Grünheide), 15566 (Schöneiche), 15569 (Woltersdorf) are \n",
    "# along the Berlin-Brandenburg border and not included in other datasets, so they will be removed\n",
    "postal_codes = postal_codes.iloc[0:190,:]\n",
    "postal_codes"
   ]
  },
  {
   "cell_type": "code",
   "execution_count": null,
   "metadata": {},
   "outputs": [],
   "source": [
    "# postal_codes.to_csv(path_or_buf='~/Projects/IBMCertDS/Coursera_Capstone/data/postal_codes.csv')"
   ]
  },
  {
   "cell_type": "code",
   "execution_count": null,
   "metadata": {},
   "outputs": [],
   "source": [
    "urlhood = 'https://tsb-opendata.s3.eu-central-1.amazonaws.com/ortsteile/lor_ortsteile.geojson'\n",
    "hood_json = requests.get(urlhood).json()"
   ]
  },
  {
   "cell_type": "code",
   "execution_count": null,
   "metadata": {},
   "outputs": [],
   "source": [
    "area = []\n",
    "lats = []\n",
    "lons = []\n",
    "name = []\n",
    "\n",
    "for feature in hood_json['features']:\n",
    "        name.append(feature['properties']['spatial_alias'])\n",
    "        polygon = shape(feature['geometry'])\n",
    "        p=polygon.representative_point()\n",
    "        lons.append(p.x)\n",
    "        lats.append(p.y)\n",
    "        \n",
    "        geom_aea = ops.transform(\n",
    "            pyproj.Proj(\n",
    "            proj='aea',\n",
    "            lat_1=polygon.bounds[1],\n",
    "            lat_2=polygon.bounds[3]),\n",
    "        polygon)\n",
    "        a = geom_aea.area/1000**2\n",
    "        area.append(a)             \n",
    "\n",
    "neighborhoods = pd.DataFrame(data={'Neighborhood':name, 'Latitude':lats, 'Longitude':lons, 'Area':area})\n",
    "neighborhoods.sort_values(['Neighborhood'], ascending=True, axis=0, inplace=True)\n",
    "neighborhoods.reset_index(drop=True, inplace=True)\n",
    "neighborhoods"
   ]
  },
  {
   "cell_type": "code",
   "execution_count": null,
   "metadata": {},
   "outputs": [],
   "source": [
    "# neighborhoods.to_csv(path_or_buf='~/Projects/IBMCertDS/Coursera_Capstone/data/neighborhoods.csv')"
   ]
  },
  {
   "cell_type": "code",
   "execution_count": null,
   "metadata": {},
   "outputs": [],
   "source": []
  },
  {
   "cell_type": "code",
   "execution_count": null,
   "metadata": {},
   "outputs": [],
   "source": [
    "parseurl = \"https://www.berlinstadtservice.de/xinh/Postleitzahlen_Berlin_Zahlen.html\"\n",
    "resp = requests.get(parseurl)\n",
    "soup = bs.BeautifulSoup(resp.content,'lxml')\n",
    "table = soup.find_all('table')[0]\n",
    "df = pd.read_html(str(table))\n",
    "webdata = pd.read_json(df[0].to_json(orient='records'))\n",
    "webdata.rename(columns={'Berlin Postleitzahl 101..':'values'}, inplace=True)"
   ]
  },
  {
   "cell_type": "code",
   "execution_count": null,
   "metadata": {},
   "outputs": [],
   "source": [
    "webdata = webdata[~webdata['values'].str.contains('Postleitzahl')]\n",
    "webdata.reset_index(drop=True, inplace=True)\n",
    "webdata[['PLZ', 'Ortsteil']] = webdata['values'].str.split(' ', 1, expand=True)\n",
    "webdata['Ortsteil'] = webdata['Ortsteil'].str.replace('B- ','')\n",
    "webdata = webdata[['PLZ','Ortsteil']]\n",
    "webdata.head(20)"
   ]
  },
  {
   "cell_type": "code",
   "execution_count": null,
   "metadata": {},
   "outputs": [],
   "source": [
    "# webdata.to_csv(path_or_buf='~/Projects/IBMCertDS/Coursera_Capstone/data/plz_neightborhood_unproc.csv')"
   ]
  },
  {
   "cell_type": "code",
   "execution_count": null,
   "metadata": {},
   "outputs": [],
   "source": [
    "# webdata = webdata.append(pd.DataFrame([['13507','Tegel']], columns\n",
    "# =webdata.columns))"
   ]
  },
  {
   "cell_type": "markdown",
   "metadata": {},
   "source": [
    "This list found on the web had two errors where one zip code is listed twice as another is left out.  We must replace duplicate 10243 and 13505 with 10245 and 13507, respectively."
   ]
  },
  {
   "cell_type": "code",
   "execution_count": null,
   "metadata": {},
   "outputs": [],
   "source": [
    "webdata.loc[6,'PLZ'] = 10245\n",
    "webdata.loc[257,'PLZ'] = 13507\n",
    "#mixed data types in PLZ column, must be converted to int to sort\n",
    "webdata['PLZ'] = webdata['PLZ'].astype(int)\n",
    "webdata.sort_values(['PLZ'], ascending=True, axis=0, inplace=True)\n",
    "webdata.rename(columns={'PLZ':'Postal Code', 'Ortsteil':'Neighborhood'}, inplace=True)"
   ]
  },
  {
   "cell_type": "code",
   "execution_count": null,
   "metadata": {},
   "outputs": [],
   "source": [
    "webdata"
   ]
  },
  {
   "cell_type": "markdown",
   "metadata": {},
   "source": [
    "Group and aggregate Neighborhoods according to shared postal codes, setting up for merging datasets"
   ]
  },
  {
   "cell_type": "code",
   "execution_count": null,
   "metadata": {},
   "outputs": [],
   "source": [
    "post_group = webdata.groupby(['Postal Code'], as_index=False).agg(','.join)\n",
    "post_group.reset_index(drop=True, inplace=True)\n",
    "post_group"
   ]
  },
  {
   "cell_type": "code",
   "execution_count": null,
   "metadata": {},
   "outputs": [],
   "source": [
    "webdata['Postal Code'] = webdata['Postal Code'].astype('string')\n",
    "hood_group = webdata.groupby(['Neighborhood'], as_index=False).agg(','.join)\n",
    "hood_group.reset_index(drop=True, inplace=True)\n",
    "hood_group"
   ]
  },
  {
   "cell_type": "code",
   "execution_count": null,
   "metadata": {},
   "outputs": [],
   "source": [
    "hood_group.to_csv(path_or_buf='~/Projects/IBMCertDS/Coursera_Capstone/data/hood_group.csv')"
   ]
  },
  {
   "cell_type": "code",
   "execution_count": null,
   "metadata": {},
   "outputs": [],
   "source": [
    "# webdata.to_csv(path_or_buf='~/Projects/IBMCertDS/Coursera_Capstone/out_of_git_data/plz_neightborhood.csv')"
   ]
  },
  {
   "cell_type": "code",
   "execution_count": null,
   "metadata": {},
   "outputs": [],
   "source": [
    "parseurl1 = \"https://de.wikipedia.org/wiki/Verwaltungsgliederung_Berlins\"\n",
    "resp1 = requests.get(parseurl1)\n",
    "soup1 = bs.BeautifulSoup(resp1.content,'lxml')\n",
    "table1 = soup1.find_all('table')[1]\n",
    "df1 = pd.read_html(str(table1))\n",
    "webdata1 = pd.read_json(df1[0].to_json(orient='records'))\n",
    "webdata1 = webdata1[['Ortsteil','Bezirk']]\n",
    "webdata1.head()"
   ]
  },
  {
   "cell_type": "code",
   "execution_count": null,
   "metadata": {},
   "outputs": [],
   "source": []
  },
  {
   "cell_type": "code",
   "execution_count": null,
   "metadata": {},
   "outputs": [],
   "source": [
    "# area = []\n",
    "# lats = []\n",
    "# lons = []\n",
    "# name = []\n",
    "\n",
    "# for feature in js['features']:\n",
    "#         name.append(feature['properties']['spatial_name'])\n",
    "#         polygon = shape(feature['geometry'])\n",
    "#         p=polygon.representative_point()\n",
    "#         lons.append(p.x)\n",
    "#         lats.append(p.y)\n",
    "        \n",
    "#         geom_aea = ops.transform(\n",
    "#             partial(\n",
    "#             pyproj.transform,\n",
    "#             pyproj.Proj(init='EPSG:4326'),\n",
    "#             pyproj.Proj(\n",
    "#             proj='aea',\n",
    "#             lat_1=polygon.bounds[1],\n",
    "#             lat_2=polygon.bounds[3])),\n",
    "#         polygon)\n",
    "#         a = geom_aea.area/1000**2\n",
    "#         area.append(a)\n",
    "#         #print(feature['properties']['spatial_name']) \n",
    "#         #if polygon.contains(point):\n",
    "#             #print(feature['properties']['spatial_name'])\n",
    "#         #    zips[ct] = feature['properties']['spatial_name']       \n",
    "\n",
    "        \n",
    "\n",
    "# ZIPS = pd.DataFrame(data={'ZIP':name, 'Latitude':lats, 'Longitude':lons, 'Area':area})\n",
    "# berlin_merged =ZIPS.merge(b_venues,how='left', left_on='ZIP', right_on='Venue ZIP')\n",
    "# berlin_merged.head()"
   ]
  },
  {
   "cell_type": "markdown",
   "metadata": {},
   "source": [
    "Choose x,y grid of 2km spacing"
   ]
  },
  {
   "cell_type": "code",
   "execution_count": null,
   "metadata": {},
   "outputs": [],
   "source": [
    "x_center, y_center = proj2xy(berlin[0], berlin[1])\n",
    "XX = np.arange(-20,26,1)*1000 + x_center\n",
    "YY = np.arange(20,-21,-1)*1000 + y_center"
   ]
  },
  {
   "cell_type": "code",
   "execution_count": null,
   "metadata": {},
   "outputs": [],
   "source": [
    "Lats =[]\n",
    "Lons = []\n",
    "\n",
    "for y in YY:\n",
    "    for x in XX:\n",
    "        lon, lat =proj2xy(x,y, inverse=True)\n",
    "        Lats.append(lat)\n",
    "        Lons.append(lon)"
   ]
  },
  {
   "cell_type": "code",
   "execution_count": null,
   "metadata": {},
   "outputs": [],
   "source": [
    "df_points = pd.DataFrame(columns = ['Latitude','Longitude', 'District'])\n",
    "    \n",
    "map_berlin = folium.Map(location=[52.5200, 13.4050], zoom_start=10)\n",
    "folium.GeoJson(\n",
    "    berlin_json,\n",
    "    name='geojson'\n",
    ").add_to(map_berlin)\n",
    "\n",
    "\n",
    "\n",
    "for lon, lat in zip(Lons ,Lats):\n",
    "    point = Point(lon, lat)\n",
    "    for feature in berlin_json['features']:\n",
    "        polygon = shape(feature['geometry'])\n",
    "        #print(feature['properties']['Gemeinde_name'])\n",
    "        if polygon.contains(point):\n",
    "            #print(feature['properties']['Gemeinde_name'])\n",
    "            df_points = df_points.append({'Latitude': lat, 'Longitude': lon, 'District':feature['properties']['Gemeinde_name'] \n",
    "                                         }, ignore_index=True)\n",
    "\n",
    "            folium.features.CircleMarker(\n",
    "                [lat, lon],\n",
    "                radius=2, # define how big you want the circle markers to be\n",
    "                color='yellow',\n",
    "                fill=True,\n",
    "                fill_color='yellow',\n",
    "                popup = 'Lat={:5.2f}; Lon={:5.2f}'.format(lat, lon),\n",
    "                fill_opacity=0.9\n",
    "            ).add_to(map_berlin)\n",
    "            \n",
    "map_berlin"
   ]
  },
  {
   "cell_type": "code",
   "execution_count": null,
   "metadata": {},
   "outputs": [],
   "source": [
    "berlin_json"
   ]
  },
  {
   "cell_type": "code",
   "execution_count": null,
   "metadata": {},
   "outputs": [],
   "source": [
    "df_points"
   ]
  },
  {
   "cell_type": "code",
   "execution_count": null,
   "metadata": {},
   "outputs": [],
   "source": []
  },
  {
   "cell_type": "code",
   "execution_count": null,
   "metadata": {},
   "outputs": [],
   "source": []
  }
 ],
 "metadata": {
  "kernelspec": {
   "display_name": "Python 3",
   "language": "python",
   "name": "python3"
  },
  "language_info": {
   "codemirror_mode": {
    "name": "ipython",
    "version": 3
   },
   "file_extension": ".py",
   "mimetype": "text/x-python",
   "name": "python",
   "nbconvert_exporter": "python",
   "pygments_lexer": "ipython3",
   "version": "3.8.5"
  }
 },
 "nbformat": 4,
 "nbformat_minor": 4
}
