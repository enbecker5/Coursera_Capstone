{
 "cells": [
  {
   "cell_type": "markdown",
   "metadata": {},
   "source": [
    "# Business Environments of Berlin Neighborhoods – Cluster Analysis #\n",
    "\n",
    "## 1. The Problem ##\n",
    "\n",
    "**Question:** Which types of businesses/venues appear to be most common at the district and neighborhood levels throughout the city of Berlin?\n",
    "\n",
    "2020 is a challenging year for starting a business, as the Covid-19 pandemic has reduced demand for most free-time activities as public restrictions limit allowed activities.  These new factors, combined with the preexisting challenges associated with opening a business, make it necessary that a business’s product or service is appropriately matched to the demographics and consumer preferences in its operational location.  This project aims to support entrepreneurs by giving them a clearer understanding of the business environments for each district and neighborhood through clustering at the district and neighborhood levels according to the most popular business categories in each district.  Cluster analysis of available data (described below) will allow entrepreneurs to select the appropriate location for their business to ensure it is suited to local tastes to increase chances of success.\n",
    "\n",
    "## 2. The Data ##\n",
    "\n",
    "### 2.1 Overview of Datasets ###\n",
    "* **Foursquare API venue data:** This API grants developers free access to a massive set of crowdsourced business listing and locational data.  Foursquare powers location data for popular Apps such as Uber, Snapchat, Twitter, AppleMaps, and many more.  Through gathering data on listed businesses in each Berlin district and neighborhood through calls to the Foursquare API, business data can be analyzed to provide insights into the district- and neighborhood-level business environments throughout the city of Berlin. \n",
    "\n",
    "* **[Berlin Open Data Portal](https://daten.berlin.de/datensaetze) Datasets:** The Berlin government publishes and updates open source datasets covering a wide range of aspects to aid public and private analysis on trends and developments in the city.\n",
    "    * **[Registered Residents in the Districts of Berlin on 31/12/2019](https://www.statistik-berlin-brandenburg.de/opendata/EWR_Ortsteile_2019-12-31.csv) Dataset –** the most recent update to this dataset which contains the number of residents broken down by age groups and at the district and neighborhood levels.\n",
    "\n",
    "* **Technology Foundation Berlin's Open Data Information Agency [Foundational Geodatasets of Berlin](https://daten.odis-berlin.de) Portal:** seeks to enable Berlin's up-and-coming tech sector through providing a number of open source foundational Geodatasets to enable more consistent geospatial analysis and visualization.\n",
    "    * **[Berlin Districts Geospatial Dataset](https://daten.odis-berlin.de/de/dataset/bezirksgrenzen/):** provides geospatial boundaries of Berlin's 12 administrative districts.\n",
    "    * **[Berlin Neighborhoods Geospatial Dataset](https://daten.odis-berlin.de/de/dataset/ortsteile/):** provides geospatial boundaries of Berlin's 96 neighborhoods.\n",
    "\n",
    "### 2.2 Using Datasets to Solve The Problem ###\n",
    "\n",
    "1. The geospatial datasets can be used in visualizing districts and neighborhoods over maps of Berlin, as well as in calculating representative central points of each district or neighborhood in order to make calls to the Foursquare API to retrieve venue data for each district or neighborhood.  Important data to be used is number and categories of venues.\n",
    "1. The dataset on registered residents in each district can then be used to gain some insight into the demographics of each district or neighborhood according to the characteristics of population age. \n",
    "1. After processing venue and demographic data, both regression and cluster analysis can be used to understand trends in the business environments of each district and neighborhood, and ultimately to cluster districts and neighborhoods according to the most popular venue categories.  The data analysis and visualizations produced could then be used by entrepreneurs in exploring which districts or neighborhoods have the most appropriate demographics and consumer preferences for their planned business."
   ]
  }
 ],
 "metadata": {
  "kernelspec": {
   "display_name": "Python 3",
   "language": "python",
   "name": "python3"
  },
  "language_info": {
   "codemirror_mode": {
    "name": "ipython",
    "version": 3
   },
   "file_extension": ".py",
   "mimetype": "text/x-python",
   "name": "python",
   "nbconvert_exporter": "python",
   "pygments_lexer": "ipython3",
   "version": "3.8.5"
  }
 },
 "nbformat": 4,
 "nbformat_minor": 4
}
